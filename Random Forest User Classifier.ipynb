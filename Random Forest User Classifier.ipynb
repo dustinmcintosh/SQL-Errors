{
 "metadata": {
  "name": ""
 },
 "nbformat": 3,
 "nbformat_minor": 0,
 "worksheets": [
  {
   "cells": [
    {
     "cell_type": "code",
     "collapsed": false,
     "input": [
      "import pandas as pd\n",
      "from matplotlib import pyplot as plt\n",
      "import numpy as np\n",
      "import matplotlib\n",
      "\n",
      "font = {'family' : 'normal',\n",
      "        'size'   : 24}\n",
      "\n",
      "matplotlib.rc('font', **font)\n",
      "\n",
      "pd.set_option('display.max_rows', 10)\n",
      "pd.set_option('display.max_columns', 8)\n",
      "\n",
      "%matplotlib inline\n",
      "\n"
     ],
     "language": "python",
     "metadata": {},
     "outputs": [],
     "prompt_number": 10
    },
    {
     "cell_type": "code",
     "collapsed": false,
     "input": [
      "NegativeSample = pd.read_csv('neg_sample.csv')\n",
      "PositiveSample = pd.read_csv('pos_sample.csv')\n",
      "\n",
      "NegativeSample['y'] = 0\n",
      "PositiveSample['y'] = 1\n",
      "\n",
      "allData = pd.concat([NegativeSample, PositiveSample])"
     ],
     "language": "python",
     "metadata": {},
     "outputs": [],
     "prompt_number": 11
    },
    {
     "cell_type": "code",
     "collapsed": false,
     "input": [
      "#here I put the times into python's datetime\n",
      "\n",
      "import datetime as dt\n",
      "\n",
      "def get_time(Modedt):\n",
      "    try:\n",
      "        year = Modedt[:4]\n",
      "        month = Modedt[5:7]\n",
      "        day  = Modedt[8:10]\n",
      "        hour  = Modedt[11:13]\n",
      "        minute  = Modedt[14:16]\n",
      "        sec  = Modedt[17:19]\n",
      "        micsec  = Modedt[20:23]\n",
      "        return dt.datetime(int(year), int(month), int(day), int(hour), int(minute), int(sec), int(micsec)*1000)\n",
      "    except:\n",
      "        print Modedt\n",
      "        return float('nan')\n",
      "    \n",
      "print get_time(allData['created_at'].iloc[0])\n",
      "\n",
      "#sometimes Completed_at = nan \n",
      "allData['createdT'] = allData['created_at'].apply(get_time)\n",
      "allData['completedT'] = allData['completed_at'].apply(get_time)\n",
      "allData['deltaTime'] = (allData['completedT']-allData['createdT'])"
     ],
     "language": "python",
     "metadata": {},
     "outputs": [
      {
       "output_type": "stream",
       "stream": "stdout",
       "text": [
        "2014-03-05 08:10:22.319000\n"
       ]
      }
     ],
     "prompt_number": 12
    },
    {
     "cell_type": "code",
     "collapsed": false,
     "input": [
      "allData.shape"
     ],
     "language": "python",
     "metadata": {},
     "outputs": [
      {
       "metadata": {},
       "output_type": "pyout",
       "prompt_number": 13,
       "text": [
        "(22040, 22)"
       ]
      }
     ],
     "prompt_number": 13
    },
    {
     "cell_type": "code",
     "collapsed": false,
     "input": [
      "%run errorClassifier.py\n",
      "allData['Error Class'] = allData['error_message'].apply(identErr2)"
     ],
     "language": "python",
     "metadata": {},
     "outputs": [
      {
       "output_type": "stream",
       "stream": "stdout",
       "text": [
        "rare errors\n",
        "no error\n"
       ]
      }
     ],
     "prompt_number": 14
    },
    {
     "cell_type": "code",
     "collapsed": false,
     "input": [
      "#Count each keyword in each query\n",
      "import re\n",
      "\n",
      "sqlKeywords = pd.read_csv('keywords.txt').dropna()\n",
      "\n",
      "for keyword in sqlKeywords.values:\n",
      "    \n",
      "    keyToSearch = keyword[0].lower()\n",
      "    #print keyToSearch\n",
      "    def getCount(SQLquery):\n",
      "        queryParse = re.findall(r\"[\\w']+|[.,!?'\\\";:)(]\", SQLquery.lower())\n",
      "        return queryParse.count(keyToSearch)\n",
      "    \n",
      "    allData[keyToSearch] = allData['raw_source'].apply(getCount)"
     ],
     "language": "python",
     "metadata": {},
     "outputs": [],
     "prompt_number": 15
    },
    {
     "cell_type": "code",
     "collapsed": false,
     "input": [
      "allData['white_space_frac'] = allData['raw_source'].apply(lambda x: float(x.count(' '))/len(x))\n",
      "allData['line_break_density'] = allData['raw_source'].apply(lambda x: float(x.count('\\n'))/len(x))\n",
      "allData['length'] = allData['raw_source'].apply(len)"
     ],
     "language": "python",
     "metadata": {},
     "outputs": [],
     "prompt_number": 16
    },
    {
     "cell_type": "code",
     "collapsed": false,
     "input": [
      "uniqueErrors = allData['Error Class'].unique()\n",
      "\n",
      "for error in uniqueErrors:\n",
      "    \n",
      "    #print keyToSearch\n",
      "    def isError(thisError):\n",
      "        if thisError == error:\n",
      "            return 1\n",
      "        else:\n",
      "            return 0\n",
      "    \n",
      "    allData[error] = allData['Error Class'].apply(isError)"
     ],
     "language": "python",
     "metadata": {},
     "outputs": [],
     "prompt_number": 17
    },
    {
     "cell_type": "code",
     "collapsed": false,
     "input": [
      "allData.columns"
     ],
     "language": "python",
     "metadata": {},
     "outputs": [
      {
       "metadata": {},
       "output_type": "pyout",
       "prompt_number": 19,
       "text": [
        "Index([u'Unnamed: 0', u'Unnamed: 0.1', u'id', u'error_message', u'error_detail', u'executed_by_id', u'report_id', u'created_at', u'completed_at', u'parameters', u'data_source_id', u'raw_source', u'adapter', u'public', u'createdT', u'completedT', u'deltaTime', u'isInfrequent', u'isIntermediate', u'isExpert', u'tutorialFrac', u'y', u'Error Class', u'except', u'percent', u'all', u'exec', u'plan', u'alter', u'execute', u'precision', u'and', u'exists', u'primary', u'any', u'exit', u'print', u'as', u'fetch', u'proc', u'asc', u'file', u'procedure', u'authorization', u'fillfactor', u'backup', u'for', u'raiserror', u'begin', u'foreign', u'read', u'between', u'freetext', u'readtext', u'break', u'freetexttable', u'reconfigure', u'browse', u'from', u'references', u'bulk', u'full', u'replication', u'by', u'function', u'restore', u'cascade', u'goto', u'restrict', u'case', u'grant', u'return', u'check', u'group', u'revoke', u'checkpoint', u'having', u'right', u'close', u'holdlock', u'rollback', u'clustered', u'identity', u'rowcount', u'coalesce', u'identity_insert', u'rowguidcol', u'collate', u'identitycol', u'rule', u'column', u'if', u'save', u'commit', u'in', u'schema', u'compute', u'index', u'select', u'constraint', ...], dtype='object')"
       ]
      }
     ],
     "prompt_number": 19
    },
    {
     "cell_type": "code",
     "collapsed": false,
     "input": [
      "y = allData['y']\n",
      "X = allData.drop(['id', 'error_message', 'error_detail', 'executed_by_id',\n",
      "       'report_id', 'created_at', 'completed_at', 'parameters',\n",
      "       'data_source_id', 'raw_source', 'adapter', 'public', 'createdT',\n",
      "       'completedT', 'deltaTime', 'Error Class', 'y','Unnamed: 0', 'Unnamed: 0.1', \n",
      "       'isInfrequent', 'isIntermediate', 'isExpert', 'tutorialFrac'], axis = 1)\n",
      "X = X.drop('length', axis = 1)"
     ],
     "language": "python",
     "metadata": {},
     "outputs": [],
     "prompt_number": 62
    },
    {
     "cell_type": "code",
     "collapsed": false,
     "input": [
      "#df = random subset of 1000 of the errors\n",
      "import random\n",
      "rowstrain = random.sample(X.index, allData.shape[0]*8/10)\n",
      "Xtrain = X.ix[rowstrain]\n",
      "ytrain = y.ix[rowstrain]\n",
      "\n",
      "Xtest = X.drop(rowstrain)\n",
      "ytest = y.drop(rowstrain)"
     ],
     "language": "python",
     "metadata": {},
     "outputs": [],
     "prompt_number": 71
    },
    {
     "cell_type": "code",
     "collapsed": false,
     "input": [
      "from sklearn.ensemble import RandomForestClassifier\n",
      "\n",
      "clf2 = RandomForestClassifier()\n",
      "clf2.fit(Xtrain, ytrain)"
     ],
     "language": "python",
     "metadata": {},
     "outputs": [
      {
       "metadata": {},
       "output_type": "pyout",
       "prompt_number": 72,
       "text": [
        "RandomForestClassifier(bootstrap=True, compute_importances=None,\n",
        "            criterion='gini', max_depth=None, max_features='auto',\n",
        "            min_density=None, min_samples_leaf=1, min_samples_split=2,\n",
        "            n_estimators=10, n_jobs=1, oob_score=False, random_state=None,\n",
        "            verbose=0)"
       ]
      }
     ],
     "prompt_number": 72
    },
    {
     "cell_type": "code",
     "collapsed": false,
     "input": [
      "clf2.score(Xtest, ytest)"
     ],
     "language": "python",
     "metadata": {},
     "outputs": [
      {
       "metadata": {},
       "output_type": "pyout",
       "prompt_number": 73,
       "text": [
        "0.95439835245660487"
       ]
      }
     ],
     "prompt_number": 73
    },
    {
     "cell_type": "code",
     "collapsed": false,
     "input": [
      "Xtest.shape"
     ],
     "language": "python",
     "metadata": {},
     "outputs": [
      {
       "metadata": {},
       "output_type": "pyout",
       "prompt_number": 68,
       "text": [
        "(3404, 223)"
       ]
      }
     ],
     "prompt_number": 68
    },
    {
     "cell_type": "code",
     "collapsed": false,
     "input": [
      "Importance = pd.Series(clf2.feature_importances_, index = X.columns.values)\n",
      "Importance=Importance[Importance>0]\n",
      "Importance.sort(ascending = False)\n",
      "\n",
      "font = {'family' : 'normal',\n",
      "        'size'   : 24}\n",
      "\n",
      "matplotlib.rc('font', **font)\n",
      "\n",
      "Importance[:15].plot(kind='bar', figsize = (8, 5))"
     ],
     "language": "python",
     "metadata": {},
     "outputs": [
      {
       "metadata": {},
       "output_type": "pyout",
       "prompt_number": 69,
       "text": [
        "<matplotlib.axes.AxesSubplot at 0x7f5cfdd96b50>"
       ]
      },
      {
       "metadata": {},
       "output_type": "display_data",
       "png": "[encoded data removed]",
       "text": [
        "<matplotlib.figure.Figure at 0x7f5cfdd46950>"
       ]
      }
     ],
     "prompt_number": 69
    }
   ],
   "metadata": {}
  }
 ]
}