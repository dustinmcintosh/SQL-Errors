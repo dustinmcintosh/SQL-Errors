{
 "metadata": {
  "name": ""
 },
 "nbformat": 3,
 "nbformat_minor": 0,
 "worksheets": [
  {
   "cells": [
    {
     "cell_type": "code",
     "collapsed": false,
     "input": [
      "import pandas as pd\n",
      "from matplotlib import pyplot as plt\n",
      "import numpy as np\n",
      "import matplotlib\n",
      "\n",
      "font = {'family' : 'normal',\n",
      "        'size'   : 24}\n",
      "\n",
      "matplotlib.rc('font', **font)\n",
      "\n",
      "pd.set_option('display.max_rows', 10)\n",
      "pd.set_option('display.max_columns', 8)\n",
      "\n",
      "%matplotlib inline\n",
      "\n"
     ],
     "language": "python",
     "metadata": {},
     "outputs": [],
     "prompt_number": 2
    },
    {
     "cell_type": "code",
     "collapsed": false,
     "input": [
      "#NegativeSample = pd.read_csv('neg_sample.csv')\n",
      "#PositiveSample = pd.read_csv('pos_sample.csv')\n",
      "\n",
      "NegativeSample = pd.read_csv('neg_sample2_5pctTut_50minCut.csv')\n",
      "PositiveSample = pd.read_csv('pos_sample2_SeptCut_1000minCut.csv')\n",
      "\n",
      "NegativeSample['y'] = 0\n",
      "PositiveSample['y'] = 1"
     ],
     "language": "python",
     "metadata": {},
     "outputs": [],
     "prompt_number": 3
    },
    {
     "cell_type": "code",
     "collapsed": false,
     "input": [
      "print len(NegativeSample)\n",
      "print len(PositiveSample)"
     ],
     "language": "python",
     "metadata": {},
     "outputs": [
      {
       "output_type": "stream",
       "stream": "stdout",
       "text": [
        "3709\n",
        "28641\n"
       ]
      }
     ],
     "prompt_number": 4
    },
    {
     "cell_type": "code",
     "collapsed": false,
     "input": [
      "import random\n",
      "rows = random.sample(PositiveSample.index, NegativeSample.shape[0])\n",
      "PositiveSample = PositiveSample.ix[rows]"
     ],
     "language": "python",
     "metadata": {},
     "outputs": [],
     "prompt_number": 5
    },
    {
     "cell_type": "code",
     "collapsed": false,
     "input": [
      "allData = pd.concat([NegativeSample, PositiveSample])"
     ],
     "language": "python",
     "metadata": {},
     "outputs": [],
     "prompt_number": 6
    },
    {
     "cell_type": "code",
     "collapsed": false,
     "input": [
      "len(NegativeSample['executed_by_id'].unique())"
     ],
     "language": "python",
     "metadata": {},
     "outputs": [
      {
       "metadata": {},
       "output_type": "pyout",
       "prompt_number": 7,
       "text": [
        "36"
       ]
      }
     ],
     "prompt_number": 7
    },
    {
     "cell_type": "code",
     "collapsed": false,
     "input": [
      "len(PositiveSample['executed_by_id'].unique())"
     ],
     "language": "python",
     "metadata": {},
     "outputs": [
      {
       "metadata": {},
       "output_type": "pyout",
       "prompt_number": 8,
       "text": [
        "22"
       ]
      }
     ],
     "prompt_number": 8
    },
    {
     "cell_type": "code",
     "collapsed": false,
     "input": [
      "#here I put the times into python's datetime\n",
      "\n",
      "import datetime as dt\n",
      "\n",
      "def get_time(Modedt):\n",
      "    try:\n",
      "        year = Modedt[:4]\n",
      "        month = Modedt[5:7]\n",
      "        day  = Modedt[8:10]\n",
      "        hour  = Modedt[11:13]\n",
      "        minute  = Modedt[14:16]\n",
      "        sec  = Modedt[17:19]\n",
      "        micsec  = Modedt[20:23]\n",
      "        return dt.datetime(int(year), int(month), int(day), int(hour), int(minute), int(sec), int(micsec)*1000)\n",
      "    except:\n",
      "        print Modedt\n",
      "        return float('nan')\n",
      "    \n",
      "print get_time(allData['created_at'].iloc[0])\n",
      "\n",
      "#sometimes Completed_at = nan \n",
      "allData['createdT'] = allData['created_at'].apply(get_time)\n",
      "allData['completedT'] = allData['completed_at'].apply(get_time)\n",
      "allData['deltaTime'] = (allData['completedT']-allData['createdT'])"
     ],
     "language": "python",
     "metadata": {},
     "outputs": [
      {
       "output_type": "stream",
       "stream": "stdout",
       "text": [
        "2014-03-05 08:10:22.319000\n"
       ]
      }
     ],
     "prompt_number": 9
    },
    {
     "cell_type": "code",
     "collapsed": false,
     "input": [
      "allData.shape"
     ],
     "language": "python",
     "metadata": {},
     "outputs": [
      {
       "metadata": {},
       "output_type": "pyout",
       "prompt_number": 10,
       "text": [
        "(7418, 23)"
       ]
      }
     ],
     "prompt_number": 10
    },
    {
     "cell_type": "code",
     "collapsed": false,
     "input": [
      "%run errorClassifier.py\n",
      "allData['Error Class'] = allData['error_message'].apply(identErr2)"
     ],
     "language": "python",
     "metadata": {},
     "outputs": [
      {
       "output_type": "stream",
       "stream": "stdout",
       "text": [
        "rare errors\n",
        "no error\n"
       ]
      }
     ],
     "prompt_number": 11
    },
    {
     "cell_type": "code",
     "collapsed": false,
     "input": [
      "#Count each keyword in each query\n",
      "import re\n",
      "\n",
      "sqlKeywords = pd.read_csv('keywords.txt').dropna()\n",
      "\n",
      "for keyword in sqlKeywords.values:\n",
      "    \n",
      "    keyToSearch = keyword[0].lower()\n",
      "    #print keyToSearch\n",
      "    def getCount(SQLquery):\n",
      "        queryParse = re.findall(r\"[\\w']+|[.,!?'\\\";:)(]\", SQLquery.lower())\n",
      "        return queryParse.count(keyToSearch)\n",
      "    def getFrac(SQLquery):\n",
      "        queryParse = re.findall(r\"[\\w']+|[.,!?'\\\";:)(]\", SQLquery.lower())\n",
      "        return float(queryParse.count(keyToSearch))/len(SQLquery)\n",
      "    def getIsPres(SQLquery):\n",
      "        queryParse = re.findall(r\"[\\w']+|[.,!?'\\\";:)(]\", SQLquery.lower())\n",
      "        if queryParse.count(keyToSearch)>0:\n",
      "            return 1\n",
      "        else:\n",
      "            return 0\n",
      "    \n",
      "    allData[keyToSearch] = allData['raw_source'].apply(getCount)\n",
      "    #allData[keyToSearch+' frac'] = allData['raw_source'].apply(getFrac)\n",
      "    #allData[keyToSearch+' presence'] = allData['raw_source'].apply(getIsPres)"
     ],
     "language": "python",
     "metadata": {},
     "outputs": [],
     "prompt_number": 12
    },
    {
     "cell_type": "code",
     "collapsed": false,
     "input": [
      "allData['()_frac'] = allData['raw_source'].apply(lambda x: float(x.count('('))/len(x)+float(x.count(')'))/len(x))\n",
      "allData['white_space_frac'] = allData['raw_source'].apply(lambda x: float(x.count(' '))/len(x))\n",
      "allData['line_break_density'] = allData['raw_source'].apply(lambda x: float(x.count('\\n'))/len(x))\n",
      "allData['length'] = allData['raw_source'].apply(len)\n"
     ],
     "language": "python",
     "metadata": {},
     "outputs": [],
     "prompt_number": 13
    },
    {
     "cell_type": "code",
     "collapsed": false,
     "input": [
      "presenceList = []\n",
      "for i in sqlKeywords.values:\n",
      "    presenceList.append(i[0].lower())+' presence')\n",
      "\n",
      "allData['diversity'] = allData[presenceList].sum(axis=1)"
     ],
     "language": "python",
     "metadata": {},
     "outputs": [],
     "prompt_number": 14
    },
    {
     "cell_type": "code",
     "collapsed": false,
     "input": [
      "uniqueErrors = allData['Error Class'].unique()\n",
      "\n",
      "for error in uniqueErrors:\n",
      "    \n",
      "    #print keyToSearch\n",
      "    def isError(thisError):\n",
      "        if thisError == error:\n",
      "            return 1\n",
      "        else:\n",
      "            return 0\n",
      "    \n",
      "    allData[error] = allData['Error Class'].apply(isError)"
     ],
     "language": "python",
     "metadata": {},
     "outputs": [],
     "prompt_number": 15
    },
    {
     "cell_type": "code",
     "collapsed": false,
     "input": [
      "allData.columns"
     ],
     "language": "python",
     "metadata": {},
     "outputs": [
      {
       "metadata": {},
       "output_type": "pyout",
       "prompt_number": 18,
       "text": [
        "Index([u'Unnamed: 0', u'id', u'error_message', u'error_detail', u'executed_by_id', u'report_id', u'created_at', u'completed_at', u'parameters', u'data_source_id', u'raw_source', u'adapter', u'public', u'createdT', u'completedT', u'deltaTime', u'YearMonth', u'isInfrequent', u'isIntermediate', u'isExpert', u'tutorialFrac', u'tutorialCount', u'y', u'Error Class', u'except', u'percent', u'all', u'exec', u'plan', u'alter', u'execute', u'precision', u'and', u'exists', u'primary', u'any', u'exit', u'print', u'as', u'fetch', u'proc', u'asc', u'file', u'procedure', u'authorization', u'fillfactor', u'backup', u'for', u'raiserror', u'begin', u'foreign', u'read', u'between', u'freetext', u'readtext', u'break', u'freetexttable', u'reconfigure', u'browse', u'from', u'references', u'bulk', u'full', u'replication', u'by', u'function', u'restore', u'cascade', u'goto', u'restrict', u'case', u'grant', u'return', u'check', u'group', u'revoke', u'checkpoint', u'having', u'right', u'close', u'holdlock', u'rollback', u'clustered', u'identity', u'rowcount', u'coalesce', u'identity_insert', u'rowguidcol', u'collate', u'identitycol', u'rule', u'column', u'if', u'save', u'commit', u'in', u'schema', u'compute', u'index', u'select', ...], dtype='object')"
       ]
      }
     ],
     "prompt_number": 18
    },
    {
     "cell_type": "code",
     "collapsed": false,
     "input": [
      "allData['public']"
     ],
     "language": "python",
     "metadata": {},
     "outputs": [
      {
       "metadata": {},
       "output_type": "pyout",
       "prompt_number": 20,
       "text": [
        "0    0\n",
        "1    0\n",
        "2    0\n",
        "...\n",
        "26414    0\n",
        "11248    0\n",
        "16229    0\n",
        "Name: public, Length: 7418, dtype: int64"
       ]
      }
     ],
     "prompt_number": 20
    },
    {
     "cell_type": "code",
     "collapsed": false,
     "input": [
      "y = allData['y']\n",
      "X = allData.drop(['id', 'error_message', 'error_detail', 'executed_by_id',\n",
      "       'report_id', 'created_at', 'completed_at', 'parameters',\n",
      "       'data_source_id', 'raw_source', 'adapter', 'public', 'createdT',\n",
      "       'completedT', 'deltaTime', 'Error Class', 'y', 'Unnamed: 0', \n",
      "       'isInfrequent', 'isIntermediate', 'isExpert', 'tutorialFrac', 'YearMonth', 'tutorialCount'], axis = 1)\n",
      "X = X.drop('length', axis = 1)\n",
      "#X = X.drop(presenceList, axis = 1)"
     ],
     "language": "python",
     "metadata": {},
     "outputs": [],
     "prompt_number": 21
    },
    {
     "cell_type": "code",
     "collapsed": false,
     "input": [
      "print X.columns\n",
      "print len(X.columns)"
     ],
     "language": "python",
     "metadata": {},
     "outputs": [
      {
       "output_type": "stream",
       "stream": "stdout",
       "text": [
        "Index([u'except', u'percent', u'all', u'exec', u'plan', u'alter', u'execute', u'precision', u'and', u'exists', u'primary', u'any', u'exit', u'print', u'as', u'fetch', u'proc', u'asc', u'file', u'procedure', u'authorization', u'fillfactor', u'backup', u'for', u'raiserror', u'begin', u'foreign', u'read', u'between', u'freetext', u'readtext', u'break', u'freetexttable', u'reconfigure', u'browse', u'from', u'references', u'bulk', u'full', u'replication', u'by', u'function', u'restore', u'cascade', u'goto', u'restrict', u'case', u'grant', u'return', u'check', u'group', u'revoke', u'checkpoint', u'having', u'right', u'close', u'holdlock', u'rollback', u'clustered', u'identity', u'rowcount', u'coalesce', u'identity_insert', u'rowguidcol', u'collate', u'identitycol', u'rule', u'column', u'if', u'save', u'commit', u'in', u'schema', u'compute', u'index', u'select', u'constraint', u'inner', u'session_user', u'contains', u'insert', u'set', u'containstable', u'intersect', u'setuser', u'continue', u'into', u'shutdown', u'convert', u'is', u'some', u'create', u'join', u'statistics', u'cross', u'key', u'system_user', u'current', u'kill', u'table', ...], dtype='object')\n",
        "218\n"
       ]
      }
     ],
     "prompt_number": 22
    },
    {
     "cell_type": "code",
     "collapsed": false,
     "input": [
      "#df = random subset of 1000 of the errors\n",
      "import random\n",
      "rowstrain = random.sample(X.index, allData.shape[0]*8/10)\n",
      "Xtrain = X.ix[rowstrain]\n",
      "ytrain = y.ix[rowstrain]\n",
      "\n",
      "Xtest = X.drop(rowstrain)\n",
      "ytest = y.drop(rowstrain)"
     ],
     "language": "python",
     "metadata": {},
     "outputs": [],
     "prompt_number": 45
    },
    {
     "cell_type": "code",
     "collapsed": false,
     "input": [
      "from sklearn.ensemble import RandomForestClassifier\n",
      "\n",
      "clf2 = RandomForestClassifier()\n",
      "clf2.fit(Xtrain, ytrain)"
     ],
     "language": "python",
     "metadata": {},
     "outputs": [
      {
       "metadata": {},
       "output_type": "pyout",
       "prompt_number": 46,
       "text": [
        "RandomForestClassifier(bootstrap=True, compute_importances=None,\n",
        "            criterion='gini', max_depth=None, max_features='auto',\n",
        "            min_density=None, min_samples_leaf=1, min_samples_split=2,\n",
        "            n_estimators=10, n_jobs=1, oob_score=False, random_state=None,\n",
        "            verbose=0)"
       ]
      }
     ],
     "prompt_number": 46
    },
    {
     "cell_type": "code",
     "collapsed": false,
     "input": [
      "from sklearn.cross_validation import train_test_split\n",
      "from sklearn.grid_search import GridSearchCV\n",
      "from sklearn.metrics import classification_report\n",
      "from sklearn.metrics import confusion_matrix\n",
      "from sklearn.metrics import roc_curve, auc"
     ],
     "language": "python",
     "metadata": {},
     "outputs": [],
     "prompt_number": 47
    },
    {
     "cell_type": "code",
     "collapsed": false,
     "input": [
      "y_pred = clf2.predict(Xtest)"
     ],
     "language": "python",
     "metadata": {},
     "outputs": [],
     "prompt_number": 48
    },
    {
     "cell_type": "code",
     "collapsed": false,
     "input": [
      "cm = confusion_matrix(ytest, y_pred, labels=range(2))\n",
      "cm"
     ],
     "language": "python",
     "metadata": {},
     "outputs": [
      {
       "metadata": {},
       "output_type": "pyout",
       "prompt_number": 49,
       "text": [
        "array([[618,  70],\n",
        "       [102, 521]])"
       ]
      }
     ],
     "prompt_number": 49
    },
    {
     "cell_type": "code",
     "collapsed": false,
     "input": [
      "clf2.score(Xtest, ytest)"
     ],
     "language": "python",
     "metadata": {},
     "outputs": [
      {
       "metadata": {},
       "output_type": "pyout",
       "prompt_number": 50,
       "text": [
        "0.86880244088482073"
       ]
      }
     ],
     "prompt_number": 50
    },
    {
     "cell_type": "code",
     "collapsed": false,
     "input": [
      "print classification_report(ytest.values, y_pred)"
     ],
     "language": "python",
     "metadata": {},
     "outputs": [
      {
       "output_type": "stream",
       "stream": "stdout",
       "text": [
        "             precision    recall  f1-score   support\n",
        "\n",
        "          0       0.83      0.87      0.85       643\n",
        "          1       0.87      0.84      0.85       681\n",
        "\n",
        "avg / total       0.85      0.85      0.85      1324\n",
        "\n"
       ]
      }
     ],
     "prompt_number": 29
    },
    {
     "cell_type": "code",
     "collapsed": false,
     "input": [
      "y_score = clf2.predict_proba(Xtest)"
     ],
     "language": "python",
     "metadata": {},
     "outputs": [],
     "prompt_number": 30
    },
    {
     "cell_type": "code",
     "collapsed": false,
     "input": [
      "y"
     ],
     "language": "python",
     "metadata": {},
     "outputs": [
      {
       "metadata": {},
       "output_type": "pyout",
       "prompt_number": 31,
       "text": [
        "0    0\n",
        "1    0\n",
        "2    0\n",
        "...\n",
        "26414    1\n",
        "11248    1\n",
        "16229    1\n",
        "Name: y, Length: 7418, dtype: int64"
       ]
      }
     ],
     "prompt_number": 31
    },
    {
     "cell_type": "code",
     "collapsed": false,
     "input": [
      "y_score[:, 1]"
     ],
     "language": "python",
     "metadata": {},
     "outputs": [
      {
       "metadata": {},
       "output_type": "pyout",
       "prompt_number": 32,
       "text": [
        "array([ 0. ,  0.2,  0.4, ...,  1. ,  0.4,  1. ])"
       ]
      }
     ],
     "prompt_number": 32
    },
    {
     "cell_type": "code",
     "collapsed": false,
     "input": [
      "fpr = dict()\n",
      "tpr = dict()\n",
      "roc_auc = dict()\n",
      "fpr[0], tpr[0], _ = roc_curve(1-ytest, y_score[:, 1])\n",
      "roc_auc[0] = auc(fpr[0], tpr[0])\n",
      "fpr[1], tpr[1], _ = roc_curve(ytest, y_score[:, 1])\n",
      "roc_auc[1] = auc(fpr[1], tpr[1])"
     ],
     "language": "python",
     "metadata": {},
     "outputs": [],
     "prompt_number": 33
    },
    {
     "cell_type": "code",
     "collapsed": false,
     "input": [
      "list((1-ytest).values).extend(list(ytest.values))"
     ],
     "language": "python",
     "metadata": {},
     "outputs": [],
     "prompt_number": 34
    },
    {
     "cell_type": "code",
     "collapsed": false,
     "input": [
      "y_score"
     ],
     "language": "python",
     "metadata": {},
     "outputs": [
      {
       "metadata": {},
       "output_type": "pyout",
       "prompt_number": 35,
       "text": [
        "array([[ 1. ,  0. ],\n",
        "       [ 0.8,  0.2],\n",
        "       [ 0.6,  0.4],\n",
        "       ..., \n",
        "       [ 0. ,  1. ],\n",
        "       [ 0.6,  0.4],\n",
        "       [ 0. ,  1. ]])"
       ]
      }
     ],
     "prompt_number": 35
    },
    {
     "cell_type": "code",
     "collapsed": false,
     "input": [
      "np.array(list((1-ytest).values)+(list(ytest.values)))"
     ],
     "language": "python",
     "metadata": {},
     "outputs": [
      {
       "metadata": {},
       "output_type": "pyout",
       "prompt_number": 36,
       "text": [
        "array([1, 1, 1, ..., 1, 1, 1])"
       ]
      }
     ],
     "prompt_number": 36
    },
    {
     "cell_type": "code",
     "collapsed": false,
     "input": [
      "fpr[\"micro\"], tpr[\"micro\"], _ = roc_curve(np.array(list((1-ytest).values)+(list(ytest.values))), y_score.ravel())\n",
      "roc_auc[\"micro\"] = auc(fpr[\"micro\"], tpr[\"micro\"])"
     ],
     "language": "python",
     "metadata": {},
     "outputs": [],
     "prompt_number": 37
    },
    {
     "cell_type": "code",
     "collapsed": false,
     "input": [
      "roc_auc"
     ],
     "language": "python",
     "metadata": {},
     "outputs": [
      {
       "metadata": {},
       "output_type": "pyout",
       "prompt_number": 38,
       "text": [
        "{0: 0.069206842923794726, 1: 0.93079315707620514, 'micro': 0.50065003742207548}"
       ]
      }
     ],
     "prompt_number": 38
    },
    {
     "cell_type": "code",
     "collapsed": false,
     "input": [
      "plt.figure()\n",
      "plt.plot(fpr[1], tpr[1], label='ROC curve (area = %0.2f)' % roc_auc[1], color = 'g')\n",
      "\n",
      "plt.plot([0, 1], [0, 1], 'k--')\n",
      "plt.xlim([0.0, 1.0])\n",
      "plt.ylim([0.0, 1.05])\n",
      "plt.xlabel('False Positive Rate')\n",
      "plt.ylabel('True Positive Rate')\n",
      "plt.title('ROC curve')\n",
      "#plt.legend(loc=\"lower right\")\n",
      "print 'ROC curve (area = %0.2f)'% roc_auc[1]"
     ],
     "language": "python",
     "metadata": {},
     "outputs": [
      {
       "output_type": "stream",
       "stream": "stdout",
       "text": [
        "ROC curve (area = 0.93)\n"
       ]
      },
      {
       "output_type": "stream",
       "stream": "stderr",
       "text": [
        "/usr/lib/pymodules/python2.7/matplotlib/font_manager.py:1236: UserWarning: findfont: Font family ['normal'] not found. Falling back to Bitstream Vera Sans\n",
        "  (prop.get_family(), self.defaultFamily[fontext]))\n",
        "/usr/lib/pymodules/python2.7/matplotlib/font_manager.py:1246: UserWarning: findfont: Could not match :family=Bitstream Vera Sans:style=normal:variant=normal:weight=normal:stretch=normal:size=medium. Returning /usr/share/matplotlib/mpl-data/fonts/ttf/cmb10.ttf\n",
        "  UserWarning)\n",
        "/usr/lib/pymodules/python2.7/matplotlib/font_manager.py:1246: UserWarning: findfont: Could not match :family=Bitstream Vera Sans:style=normal:variant=normal:weight=normal:stretch=normal:size=large. Returning /usr/share/matplotlib/mpl-data/fonts/ttf/cmb10.ttf\n",
        "  UserWarning)\n"
       ]
      },
      {
       "metadata": {},
       "output_type": "display_data",
       "png": "[encoded data removed]",
       "text": [
        "<matplotlib.figure.Figure at 0x7f008ff9a2d0>"
       ]
      }
     ],
     "prompt_number": 39
    },
    {
     "cell_type": "code",
     "collapsed": false,
     "input": [
      "fpr[1]"
     ],
     "language": "python",
     "metadata": {},
     "outputs": [
      {
       "metadata": {},
       "output_type": "pyout",
       "prompt_number": 134,
       "text": [
        "array([ 0.        ,  0.01062215,  0.01062215,  0.01820941,  0.01820941,\n",
        "        0.01820941,  0.01972686,  0.04248862,  0.04248862,  0.04400607,\n",
        "        0.05918058,  0.06069803,  0.06069803,  0.06221548,  0.06221548,\n",
        "        0.1016692 ,  0.10318665,  0.1047041 ,  0.10622155,  0.15022762,\n",
        "        0.15022762,  0.15477997,  0.15477997,  0.15629742,  0.15933232,\n",
        "        0.21396055,  0.215478  ,  0.21699545,  0.2185129 ,  0.28528073,\n",
        "        0.28679818,  0.28831563,  0.28983308,  0.29135053,  0.29438543,\n",
        "        0.40515933,  0.40515933,  0.40515933,  0.40515933,  0.40667678,\n",
        "        0.40819423,  0.40971168,  0.56145675,  0.56449165,  0.56449165,\n",
        "        0.5660091 ,  1.        ])"
       ]
      }
     ],
     "prompt_number": 134
    },
    {
     "cell_type": "code",
     "collapsed": false,
     "input": [
      "Importance"
     ],
     "language": "python",
     "metadata": {},
     "outputs": []
    },
    {
     "cell_type": "code",
     "collapsed": false,
     "input": [
      "Importance = pd.Series(clf2.feature_importances_, index = X.columns.values)\n",
      "Importance=Importance[Importance>0]\n",
      "Importance.sort(ascending = False)\n",
      "\n",
      "font = {'family' : 'normal',\n",
      "        'size'   : 24}\n",
      "\n",
      "matplotlib.rc('font', **font)\n",
      "\n",
      "#Importance[:15].plot(kind='barh', figsize = (8, 5), grid=False)\n",
      "\n",
      "ypos = np.arange(len(Importance[:15])) + .1\n",
      "plt.barh(ypos, Importance[:15])\n",
      "plt.yticks(ypos +.4, list(Importance[:15].index.values))\n",
      "plt.show()"
     ],
     "language": "python",
     "metadata": {},
     "outputs": [
      {
       "metadata": {},
       "output_type": "display_data",
       "png": "[encoded data removed]",
       "text": [
        "<matplotlib.figure.Figure at 0x7f009007bd90>"
       ]
      }
     ],
     "prompt_number": 58
    },
    {
     "cell_type": "code",
     "collapsed": false,
     "input": [
      "Importance"
     ],
     "language": "python",
     "metadata": {},
     "outputs": []
    },
    {
     "cell_type": "code",
     "collapsed": false,
     "input": [
      "import numpy as np\n",
      "import seaborn as sns\n",
      "import matplotlib.pyplot as plt\n",
      "sns.set(style=\"darkgrid\")\n",
      "\n",
      "f, ax = plt.subplots(figsize=(9, 9))\n",
      "cmap = sns.diverging_palette(220, 10, as_cmap=True)\n",
      "sns.corrplot(Xtrain[Importance[:15].index.values], annot=False, sig_stars=False,\n",
      "             diag_names=False, cmap=cmap, ax=ax)\n",
      "f.tight_layout()"
     ],
     "language": "python",
     "metadata": {},
     "outputs": [
      {
       "metadata": {},
       "output_type": "display_data",
       "png": "[encoded data removed]",
       "text": [
        "<matplotlib.figure.Figure at 0x7f008ff8ed10>"
       ]
      }
     ],
     "prompt_number": 44
    },
    {
     "cell_type": "code",
     "collapsed": false,
     "input": [
      "Xtrain[Importance[:15].index.values]"
     ],
     "language": "python",
     "metadata": {},
     "outputs": [
      {
       "html": [
        "<div style=\"max-height:1000px;max-width:1500px;overflow:auto;\">\n",
        "<table border=\"1\" class=\"dataframe\">\n",
        "  <thead>\n",
        "    <tr style=\"text-align: right;\">\n",
        "      <th></th>\n",
        "      <th>white_space_frac</th>\n",
        "      <th>line_break_density</th>\n",
        "      <th>()_frac</th>\n",
        "      <th>as</th>\n",
        "      <th>and</th>\n",
        "      <th>inner</th>\n",
        "      <th>by</th>\n",
        "      <th>group</th>\n",
        "      <th></th>\n",
        "    </tr>\n",
        "  </thead>\n",
        "  <tbody>\n",
        "    <tr>\n",
        "      <th>23423</th>\n",
        "      <td> 0.308184</td>\n",
        "      <td> 0.034953</td>\n",
        "      <td> 0.006820</td>\n",
        "      <td>  6</td>\n",
        "      <td> 8</td>\n",
        "      <td> 0</td>\n",
        "      <td> 1</td>\n",
        "      <td> 0</td>\n",
        "      <td>...</td>\n",
        "    </tr>\n",
        "    <tr>\n",
        "      <th>23487</th>\n",
        "      <td> 0.432385</td>\n",
        "      <td> 0.024390</td>\n",
        "      <td> 0.005962</td>\n",
        "      <td> 12</td>\n",
        "      <td> 9</td>\n",
        "      <td> 0</td>\n",
        "      <td> 2</td>\n",
        "      <td> 0</td>\n",
        "      <td>...</td>\n",
        "    </tr>\n",
        "    <tr>\n",
        "      <th>12350</th>\n",
        "      <td> 0.387085</td>\n",
        "      <td> 0.042569</td>\n",
        "      <td> 0.022367</td>\n",
        "      <td> 27</td>\n",
        "      <td> 5</td>\n",
        "      <td> 0</td>\n",
        "      <td> 7</td>\n",
        "      <td> 2</td>\n",
        "      <td>...</td>\n",
        "    </tr>\n",
        "    <tr>\n",
        "      <th>26619</th>\n",
        "      <td> 0.279297</td>\n",
        "      <td> 0.017578</td>\n",
        "      <td> 0.025391</td>\n",
        "      <td>  7</td>\n",
        "      <td> 0</td>\n",
        "      <td> 0</td>\n",
        "      <td> 2</td>\n",
        "      <td> 2</td>\n",
        "      <td>...</td>\n",
        "    </tr>\n",
        "    <tr>\n",
        "      <th>1558 </th>\n",
        "      <td> 0.165680</td>\n",
        "      <td> 0.033531</td>\n",
        "      <td> 0.021696</td>\n",
        "      <td>  9</td>\n",
        "      <td> 6</td>\n",
        "      <td> 0</td>\n",
        "      <td> 2</td>\n",
        "      <td> 1</td>\n",
        "      <td>...</td>\n",
        "    </tr>\n",
        "    <tr>\n",
        "      <th>1160 </th>\n",
        "      <td> 0.258537</td>\n",
        "      <td> 0.047967</td>\n",
        "      <td> 0.021138</td>\n",
        "      <td>  8</td>\n",
        "      <td> 3</td>\n",
        "      <td> 0</td>\n",
        "      <td> 6</td>\n",
        "      <td> 1</td>\n",
        "      <td>...</td>\n",
        "    </tr>\n",
        "    <tr>\n",
        "      <th>793  </th>\n",
        "      <td> 0.198802</td>\n",
        "      <td> 0.027545</td>\n",
        "      <td> 0.035928</td>\n",
        "      <td>  3</td>\n",
        "      <td> 1</td>\n",
        "      <td> 0</td>\n",
        "      <td> 2</td>\n",
        "      <td> 1</td>\n",
        "      <td>...</td>\n",
        "    </tr>\n",
        "    <tr>\n",
        "      <th>2014 </th>\n",
        "      <td> 0.079295</td>\n",
        "      <td> 0.022026</td>\n",
        "      <td> 0.000000</td>\n",
        "      <td>  2</td>\n",
        "      <td> 0</td>\n",
        "      <td> 0</td>\n",
        "      <td> 1</td>\n",
        "      <td> 1</td>\n",
        "      <td>...</td>\n",
        "    </tr>\n",
        "    <tr>\n",
        "      <th>377  </th>\n",
        "      <td> 0.088235</td>\n",
        "      <td> 0.000000</td>\n",
        "      <td> 0.000000</td>\n",
        "      <td>  0</td>\n",
        "      <td> 0</td>\n",
        "      <td> 0</td>\n",
        "      <td> 0</td>\n",
        "      <td> 0</td>\n",
        "      <td>...</td>\n",
        "    </tr>\n",
        "    <tr>\n",
        "      <th>2097 </th>\n",
        "      <td> 0.075000</td>\n",
        "      <td> 0.075000</td>\n",
        "      <td> 0.000000</td>\n",
        "      <td>  0</td>\n",
        "      <td> 0</td>\n",
        "      <td> 0</td>\n",
        "      <td> 0</td>\n",
        "      <td> 0</td>\n",
        "      <td>...</td>\n",
        "    </tr>\n",
        "    <tr>\n",
        "      <th></th>\n",
        "      <td>...</td>\n",
        "      <td>...</td>\n",
        "      <td>...</td>\n",
        "      <td>...</td>\n",
        "      <td>...</td>\n",
        "      <td>...</td>\n",
        "      <td>...</td>\n",
        "      <td>...</td>\n",
        "    </tr>\n",
        "  </tbody>\n",
        "</table>\n",
        "<p>6774 rows \u00d7 15 columns</p>\n",
        "</div>"
       ],
       "metadata": {},
       "output_type": "pyout",
       "prompt_number": 43,
       "text": [
        "       white_space_frac  line_break_density   ()_frac  as  and  inner  by  \\\n",
        "23423          0.308184            0.034953  0.006820   6    8      0   1   \n",
        "23487          0.432385            0.024390  0.005962  12    9      0   2   \n",
        "12350          0.387085            0.042569  0.022367  27    5      0   7   \n",
        "26619          0.279297            0.017578  0.025391   7    0      0   2   \n",
        "1558           0.165680            0.033531  0.021696   9    6      0   2   \n",
        "1160           0.258537            0.047967  0.021138   8    3      0   6   \n",
        "793            0.198802            0.027545  0.035928   3    1      0   2   \n",
        "2014           0.079295            0.022026  0.000000   2    0      0   1   \n",
        "377            0.088235            0.000000  0.000000   0    0      0   0   \n",
        "2097           0.075000            0.075000  0.000000   0    0      0   0   \n",
        "                    ...                 ...       ... ...  ...    ... ...   \n",
        "\n",
        "       group      \n",
        "23423      0 ...  \n",
        "23487      0 ...  \n",
        "12350      2 ...  \n",
        "26619      2 ...  \n",
        "1558       1 ...  \n",
        "1160       1 ...  \n",
        "793        1 ...  \n",
        "2014       1 ...  \n",
        "377        0 ...  \n",
        "2097       0 ...  \n",
        "         ...      \n",
        "\n",
        "[6774 rows x 15 columns]"
       ]
      }
     ],
     "prompt_number": 43
    },
    {
     "cell_type": "code",
     "collapsed": false,
     "input": [
      "from sklearn.svm import SVC\n",
      "\n",
      "clf = SVC(kernel = 'linear')\n",
      "clf.fit(Xtrain, ytrain)\n"
     ],
     "language": "python",
     "metadata": {},
     "outputs": [],
     "prompt_number": "*"
    },
    {
     "cell_type": "code",
     "collapsed": false,
     "input": [
      "clf.score(Xtest, ytest)"
     ],
     "language": "python",
     "metadata": {},
     "outputs": [
      {
       "metadata": {},
       "output_type": "pyout",
       "prompt_number": 231,
       "text": [
        "0.57677902621722843"
       ]
      }
     ],
     "prompt_number": 231
    },
    {
     "cell_type": "code",
     "collapsed": false,
     "input": [
      "y_pred = clf.predict(Xtest)"
     ],
     "language": "python",
     "metadata": {},
     "outputs": []
    },
    {
     "cell_type": "code",
     "collapsed": false,
     "input": [
      "from sklearn.cross_validation import train_test_split\n",
      "from sklearn.grid_search import GridSearchCV\n",
      "from sklearn.metrics import classification_report\n",
      "from sklearn.metrics import confusion_matrix\n",
      "from sklearn.metrics import roc_curve"
     ],
     "language": "python",
     "metadata": {},
     "outputs": [],
     "prompt_number": 83
    },
    {
     "cell_type": "code",
     "collapsed": false,
     "input": [
      "print classification_report(ytest.values, y_pred) "
     ],
     "language": "python",
     "metadata": {},
     "outputs": [
      {
       "output_type": "stream",
       "stream": "stdout",
       "text": [
        "             precision    recall  f1-score   support\n",
        "\n",
        "          0       0.68      0.74      0.71       658\n",
        "          1       0.72      0.66      0.69       677\n",
        "\n",
        "avg / total       0.70      0.70      0.70      1335\n",
        "\n"
       ]
      }
     ],
     "prompt_number": 235
    },
    {
     "cell_type": "code",
     "collapsed": false,
     "input": [
      "cm = confusion_matrix(ytest, y_pred, labels=range(2))\n",
      "cm"
     ],
     "language": "python",
     "metadata": {},
     "outputs": [
      {
       "metadata": {},
       "output_type": "pyout",
       "prompt_number": 35,
       "text": [
        "array([[589,  70],\n",
        "       [117, 548]])"
       ]
      }
     ],
     "prompt_number": 35
    },
    {
     "cell_type": "code",
     "collapsed": false,
     "input": [
      "\n",
      "from sklearn.grid_search import GridSearchCV"
     ],
     "language": "python",
     "metadata": {},
     "outputs": [],
     "prompt_number": 132
    },
    {
     "cell_type": "code",
     "collapsed": false,
     "input": [
      "#try out logistic regression\n",
      "from sklearn.linear_model import LogisticRegression\n",
      "\n",
      "param_grid = {'C': [1e1, 1e2, 1e3, 1e4, 1e5],\n",
      "         }\n",
      "\n",
      "clf3 = GridSearchCV(\n",
      "    LogisticRegression(class_weight='auto'), param_grid)\n",
      "\n",
      "#clf3 = LogisticRegression()"
     ],
     "language": "python",
     "metadata": {},
     "outputs": [],
     "prompt_number": 99
    },
    {
     "cell_type": "code",
     "collapsed": false,
     "input": [
      "from time import time\n",
      "t0 = time()\n",
      "clf3.fit(Xtrain, ytrain)\n",
      "\n",
      "y_pred3 = clf3.predict(Xtest)\n",
      "cm = confusion_matrix(ytest, y_pred3, labels=range(2))\n",
      "\n",
      "print(\"done in %0.3fs\" % (time() - t0))\n",
      "print(\"Best estimator found by grid search:\")\n",
      "print(clf3.best_estimator_)\n",
      "\n"
     ],
     "language": "python",
     "metadata": {},
     "outputs": [
      {
       "output_type": "stream",
       "stream": "stdout",
       "text": [
        "done in 25.271s\n",
        "Best estimator found by grid search:\n",
        "LogisticRegression(C=10000.0, class_weight=auto, dual=False,\n",
        "          fit_intercept=True, intercept_scaling=1, penalty=l2,\n",
        "          random_state=None, tol=0.0001)\n"
       ]
      }
     ],
     "prompt_number": 100
    },
    {
     "cell_type": "code",
     "collapsed": false,
     "input": [
      "y_pred3.shape"
     ],
     "language": "python",
     "metadata": {},
     "outputs": [
      {
       "metadata": {},
       "output_type": "pyout",
       "prompt_number": 96,
       "text": [
        "(1324,)"
       ]
      }
     ],
     "prompt_number": 96
    },
    {
     "cell_type": "code",
     "collapsed": false,
     "input": [
      "ytest.shape"
     ],
     "language": "python",
     "metadata": {},
     "outputs": [
      {
       "metadata": {},
       "output_type": "pyout",
       "prompt_number": 95,
       "text": [
        "(1324,)"
       ]
      }
     ],
     "prompt_number": 95
    },
    {
     "cell_type": "code",
     "collapsed": false,
     "input": [
      "print classification_report(ytest.values, y_pred3) \n",
      " \n",
      "print('Confusion Matrix')\n",
      "#Make a data frame so we can have some nice labels\n",
      "cm\n"
     ],
     "language": "python",
     "metadata": {},
     "outputs": [
      {
       "output_type": "stream",
       "stream": "stdout",
       "text": [
        "             precision    recall  f1-score   support\n",
        "\n",
        "          0       0.72      0.75      0.74       659\n",
        "          1       0.74      0.71      0.73       665\n",
        "\n",
        "avg / total       0.73      0.73      0.73      1324\n",
        "\n",
        "Confusion Matrix\n"
       ]
      },
      {
       "metadata": {},
       "output_type": "pyout",
       "prompt_number": 98,
       "text": [
        "array([[495, 164],\n",
        "       [191, 474]])"
       ]
      }
     ],
     "prompt_number": 98
    },
    {
     "cell_type": "code",
     "collapsed": false,
     "input": [
      "print cm\n",
      "print classification_report(ytest.values, y_pred3) "
     ],
     "language": "python",
     "metadata": {},
     "outputs": []
    },
    {
     "cell_type": "code",
     "collapsed": false,
     "input": [
      "Importance = pd.Series(clf3.coef_[0], index = X.columns.values)\n",
      "Importance.sort(ascending = False)\n",
      "\n",
      "font = {'family' : 'normal',\n",
      "        'size'   : 24}\n",
      "\n",
      "matplotlib.rc('font', **font)\n",
      "\n",
      "Importance[:15].plot(kind='barh', figsize = (8, 5), grid=False)"
     ],
     "language": "python",
     "metadata": {},
     "outputs": [
      {
       "metadata": {},
       "output_type": "pyout",
       "prompt_number": 31,
       "text": [
        "<matplotlib.axes.AxesSubplot at 0x7f21304b1490>"
       ]
      },
      {
       "metadata": {},
       "output_type": "display_data",
       "png": "[encoded data removed]",
       "text": [
        "<matplotlib.figure.Figure at 0x7f21304b07d0>"
       ]
      }
     ],
     "prompt_number": 31
    }
   ],
   "metadata": {}
  }
 ]
}