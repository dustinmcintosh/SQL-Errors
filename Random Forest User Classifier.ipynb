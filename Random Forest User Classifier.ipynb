{
 "metadata": {
  "name": ""
 },
 "nbformat": 3,
 "nbformat_minor": 0,
 "worksheets": [
  {
   "cells": [
    {
     "cell_type": "code",
     "collapsed": false,
     "input": [
      "import pandas as pd\n",
      "from matplotlib import pyplot as plt\n",
      "import numpy as np\n",
      "import matplotlib\n",
      "\n",
      "font = {'family' : 'normal',\n",
      "        'size'   : 24}\n",
      "\n",
      "matplotlib.rc('font', **font)\n",
      "\n",
      "pd.set_option('display.max_rows', 10)\n",
      "pd.set_option('display.max_columns', 8)\n",
      "\n",
      "%matplotlib inline\n",
      "\n"
     ],
     "language": "python",
     "metadata": {},
     "outputs": [],
     "prompt_number": 113
    },
    {
     "cell_type": "code",
     "collapsed": false,
     "input": [
      "NegativeSample = pd.read_csv('neg_sample.csv')\n",
      "PositiveSample = pd.read_csv('pos_sample.csv')\n",
      "\n",
      "NegativeSample['y'] = 0\n",
      "PositiveSample['y'] = 1\n",
      "\n"
     ],
     "language": "python",
     "metadata": {},
     "outputs": [],
     "prompt_number": 120
    },
    {
     "cell_type": "code",
     "collapsed": false,
     "input": [
      "print len(NegativeSample)\n",
      "print len(PositiveSample)"
     ],
     "language": "python",
     "metadata": {},
     "outputs": [
      {
       "output_type": "stream",
       "stream": "stdout",
       "text": [
        "3271\n",
        "18769\n"
       ]
      }
     ],
     "prompt_number": 115
    },
    {
     "cell_type": "code",
     "collapsed": false,
     "input": [
      "import random\n",
      "rows = random.sample(PositiveSample.index, NegativeSample.shape[0])\n",
      "PositiveSample = PositiveSample.ix[rows]"
     ],
     "language": "python",
     "metadata": {},
     "outputs": [],
     "prompt_number": 121
    },
    {
     "cell_type": "code",
     "collapsed": false,
     "input": [
      "allData = pd.concat([NegativeSample, PositiveSample])"
     ],
     "language": "python",
     "metadata": {},
     "outputs": [],
     "prompt_number": 122
    },
    {
     "cell_type": "code",
     "collapsed": false,
     "input": [
      "len(PositiveSample)"
     ],
     "language": "python",
     "metadata": {},
     "outputs": [
      {
       "metadata": {},
       "output_type": "pyout",
       "prompt_number": 125,
       "text": [
        "3271"
       ]
      }
     ],
     "prompt_number": 125
    },
    {
     "cell_type": "code",
     "collapsed": false,
     "input": [
      "len(NegativeSample['executed_by_id'].unique())"
     ],
     "language": "python",
     "metadata": {},
     "outputs": [
      {
       "metadata": {},
       "output_type": "pyout",
       "prompt_number": 118,
       "text": [
        "25"
       ]
      }
     ],
     "prompt_number": 118
    },
    {
     "cell_type": "code",
     "collapsed": false,
     "input": [
      "len(PositiveSample['executed_by_id'].unique())"
     ],
     "language": "python",
     "metadata": {},
     "outputs": [
      {
       "metadata": {},
       "output_type": "pyout",
       "prompt_number": 123,
       "text": [
        "18"
       ]
      }
     ],
     "prompt_number": 123
    },
    {
     "cell_type": "code",
     "collapsed": false,
     "input": [
      "#here I put the times into python's datetime\n",
      "\n",
      "import datetime as dt\n",
      "\n",
      "def get_time(Modedt):\n",
      "    try:\n",
      "        year = Modedt[:4]\n",
      "        month = Modedt[5:7]\n",
      "        day  = Modedt[8:10]\n",
      "        hour  = Modedt[11:13]\n",
      "        minute  = Modedt[14:16]\n",
      "        sec  = Modedt[17:19]\n",
      "        micsec  = Modedt[20:23]\n",
      "        return dt.datetime(int(year), int(month), int(day), int(hour), int(minute), int(sec), int(micsec)*1000)\n",
      "    except:\n",
      "        print Modedt\n",
      "        return float('nan')\n",
      "    \n",
      "print get_time(allData['created_at'].iloc[0])\n",
      "\n",
      "#sometimes Completed_at = nan \n",
      "allData['createdT'] = allData['created_at'].apply(get_time)\n",
      "allData['completedT'] = allData['completed_at'].apply(get_time)\n",
      "allData['deltaTime'] = (allData['completedT']-allData['createdT'])"
     ],
     "language": "python",
     "metadata": {},
     "outputs": [
      {
       "output_type": "stream",
       "stream": "stdout",
       "text": [
        "2014-03-05 08:10:22.319000\n"
       ]
      }
     ],
     "prompt_number": 126
    },
    {
     "cell_type": "code",
     "collapsed": false,
     "input": [
      "allData.shape"
     ],
     "language": "python",
     "metadata": {},
     "outputs": [
      {
       "metadata": {},
       "output_type": "pyout",
       "prompt_number": 13,
       "text": [
        "(22040, 22)"
       ]
      }
     ],
     "prompt_number": 13
    },
    {
     "cell_type": "code",
     "collapsed": false,
     "input": [
      "%run errorClassifier.py\n",
      "allData['Error Class'] = allData['error_message'].apply(identErr2)"
     ],
     "language": "python",
     "metadata": {},
     "outputs": [
      {
       "output_type": "stream",
       "stream": "stdout",
       "text": [
        "rare errors\n",
        "no error\n"
       ]
      }
     ],
     "prompt_number": 127
    },
    {
     "cell_type": "code",
     "collapsed": false,
     "input": [
      "#Count each keyword in each query\n",
      "import re\n",
      "\n",
      "sqlKeywords = pd.read_csv('keywords.txt').dropna()\n",
      "\n",
      "for keyword in sqlKeywords.values:\n",
      "    \n",
      "    keyToSearch = keyword[0].lower()\n",
      "    #print keyToSearch\n",
      "    def getCount(SQLquery):\n",
      "        queryParse = re.findall(r\"[\\w']+|[.,!?'\\\";:)(]\", SQLquery.lower())\n",
      "        return queryParse.count(keyToSearch)\n",
      "    \n",
      "    allData[keyToSearch] = allData['raw_source'].apply(getCount)"
     ],
     "language": "python",
     "metadata": {},
     "outputs": [],
     "prompt_number": 128
    },
    {
     "cell_type": "code",
     "collapsed": false,
     "input": [
      "allData['white_space_frac'] = allData['raw_source'].apply(lambda x: float(x.count(' '))/len(x))\n",
      "allData['line_break_density'] = allData['raw_source'].apply(lambda x: float(x.count('\\n'))/len(x))\n",
      "allData['length'] = allData['raw_source'].apply(len)"
     ],
     "language": "python",
     "metadata": {},
     "outputs": [],
     "prompt_number": 129
    },
    {
     "cell_type": "code",
     "collapsed": false,
     "input": [
      "uniqueErrors = allData['Error Class'].unique()\n",
      "\n",
      "for error in uniqueErrors:\n",
      "    \n",
      "    #print keyToSearch\n",
      "    def isError(thisError):\n",
      "        if thisError == error:\n",
      "            return 1\n",
      "        else:\n",
      "            return 0\n",
      "    \n",
      "    allData[error] = allData['Error Class'].apply(isError)"
     ],
     "language": "python",
     "metadata": {},
     "outputs": [],
     "prompt_number": 130
    },
    {
     "cell_type": "code",
     "collapsed": false,
     "input": [
      "allData.columns"
     ],
     "language": "python",
     "metadata": {},
     "outputs": [
      {
       "metadata": {},
       "output_type": "pyout",
       "prompt_number": 131,
       "text": [
        "Index([u'Unnamed: 0', u'Unnamed: 0.1', u'id', u'error_message', u'error_detail', u'executed_by_id', u'report_id', u'created_at', u'completed_at', u'parameters', u'data_source_id', u'raw_source', u'adapter', u'public', u'createdT', u'completedT', u'deltaTime', u'isInfrequent', u'isIntermediate', u'isExpert', u'tutorialFrac', u'y', u'Error Class', u'except', u'percent', u'all', u'exec', u'plan', u'alter', u'execute', u'precision', u'and', u'exists', u'primary', u'any', u'exit', u'print', u'as', u'fetch', u'proc', u'asc', u'file', u'procedure', u'authorization', u'fillfactor', u'backup', u'for', u'raiserror', u'begin', u'foreign', u'read', u'between', u'freetext', u'readtext', u'break', u'freetexttable', u'reconfigure', u'browse', u'from', u'references', u'bulk', u'full', u'replication', u'by', u'function', u'restore', u'cascade', u'goto', u'restrict', u'case', u'grant', u'return', u'check', u'group', u'revoke', u'checkpoint', u'having', u'right', u'close', u'holdlock', u'rollback', u'clustered', u'identity', u'rowcount', u'coalesce', u'identity_insert', u'rowguidcol', u'collate', u'identitycol', u'rule', u'column', u'if', u'save', u'commit', u'in', u'schema', u'compute', u'index', u'select', u'constraint', ...], dtype='object')"
       ]
      }
     ],
     "prompt_number": 131
    },
    {
     "cell_type": "code",
     "collapsed": false,
     "input": [
      "y = allData['y']\n",
      "X = allData.drop(['id', 'error_message', 'error_detail', 'executed_by_id',\n",
      "       'report_id', 'created_at', 'completed_at', 'parameters',\n",
      "       'data_source_id', 'raw_source', 'adapter', 'public', 'createdT',\n",
      "       'completedT', 'deltaTime', 'Error Class', 'y','Unnamed: 0', 'Unnamed: 0.1', \n",
      "       'isInfrequent', 'isIntermediate', 'isExpert', 'tutorialFrac'], axis = 1)\n",
      "X = X.drop('length', axis = 1)"
     ],
     "language": "python",
     "metadata": {},
     "outputs": [],
     "prompt_number": 132
    },
    {
     "cell_type": "code",
     "collapsed": false,
     "input": [
      "#df = random subset of 1000 of the errors\n",
      "import random\n",
      "rowstrain = random.sample(X.index, allData.shape[0]*8/10)\n",
      "Xtrain = X.ix[rowstrain]\n",
      "ytrain = y.ix[rowstrain]\n",
      "\n",
      "Xtest = X.drop(rowstrain)\n",
      "ytest = y.drop(rowstrain)"
     ],
     "language": "python",
     "metadata": {},
     "outputs": [],
     "prompt_number": 133
    },
    {
     "cell_type": "code",
     "collapsed": false,
     "input": [
      "from sklearn.ensemble import RandomForestClassifier\n",
      "\n",
      "clf2 = RandomForestClassifier()\n",
      "clf2.fit(Xtrain, ytrain)"
     ],
     "language": "python",
     "metadata": {},
     "outputs": [
      {
       "metadata": {},
       "output_type": "pyout",
       "prompt_number": 134,
       "text": [
        "RandomForestClassifier(bootstrap=True, compute_importances=None,\n",
        "            criterion='gini', max_depth=None, max_features='auto',\n",
        "            min_density=None, min_samples_leaf=1, min_samples_split=2,\n",
        "            n_estimators=10, n_jobs=1, oob_score=False, random_state=None,\n",
        "            verbose=0)"
       ]
      }
     ],
     "prompt_number": 134
    },
    {
     "cell_type": "code",
     "collapsed": false,
     "input": [
      "y_pred = clf2.predict(Xtest)"
     ],
     "language": "python",
     "metadata": {},
     "outputs": [],
     "prompt_number": 153
    },
    {
     "cell_type": "code",
     "collapsed": false,
     "input": [
      "clf2.score(Xtest, ytest)"
     ],
     "language": "python",
     "metadata": {},
     "outputs": [
      {
       "metadata": {},
       "output_type": "pyout",
       "prompt_number": 146,
       "text": [
        "0.86312118570183083"
       ]
      }
     ],
     "prompt_number": 146
    },
    {
     "cell_type": "code",
     "collapsed": false,
     "input": [
      "from sklearn.cross_validation import train_test_split\n",
      "from sklearn.grid_search import GridSearchCV\n",
      "from sklearn.metrics import classification_report\n",
      "from sklearn.metrics import confusion_matrix"
     ],
     "language": "python",
     "metadata": {},
     "outputs": [],
     "prompt_number": 151
    },
    {
     "cell_type": "code",
     "collapsed": false,
     "input": [
      "print classification_report(ytest.values, y_pred) "
     ],
     "language": "python",
     "metadata": {},
     "outputs": [
      {
       "output_type": "stream",
       "stream": "stdout",
       "text": [
        "             precision    recall  f1-score   support\n",
        "\n",
        "          0       0.83      0.91      0.87       563\n",
        "          1       0.90      0.82      0.86       584\n",
        "\n",
        "avg / total       0.87      0.86      0.86      1147\n",
        "\n"
       ]
      }
     ],
     "prompt_number": 156
    },
    {
     "cell_type": "code",
     "collapsed": false,
     "input": [
      "Importance = pd.Series(clf2.feature_importances_, index = X.columns.values)\n",
      "Importance=Importance[Importance>0]\n",
      "Importance.sort(ascending = False)\n",
      "\n",
      "font = {'family' : 'normal',\n",
      "        'size'   : 24}\n",
      "\n",
      "matplotlib.rc('font', **font)\n",
      "\n",
      "Importance[:15].plot(kind='bar', figsize = (8, 5))"
     ],
     "language": "python",
     "metadata": {},
     "outputs": [
      {
       "metadata": {},
       "output_type": "pyout",
       "prompt_number": 141,
       "text": [
        "<matplotlib.axes.AxesSubplot at 0x7f5ce38e2f90>"
       ]
      },
      {
       "metadata": {},
       "output_type": "display_data",
       "png": "[encoded data removed]",
       "text": [
        "<matplotlib.figure.Figure at 0x7f5ce3946850>"
       ]
      }
     ],
     "prompt_number": 141
    },
    {
     "cell_type": "code",
     "collapsed": false,
     "input": [
      "from sklearn.svm import SVC\n",
      "\n",
      "clf = SVC(kernel = 'linear')\n",
      "clf.fit(Xtrain, ytrain)\n"
     ],
     "language": "python",
     "metadata": {},
     "outputs": [
      {
       "metadata": {},
       "output_type": "pyout",
       "prompt_number": 91,
       "text": [
        "SVC(C=1.0, cache_size=200, class_weight=None, coef0=0.0, degree=3, gamma=0.0,\n",
        "  kernel='linear', max_iter=-1, probability=False, random_state=None,\n",
        "  shrinking=True, tol=0.001, verbose=False)"
       ]
      }
     ],
     "prompt_number": 91
    },
    {
     "cell_type": "code",
     "collapsed": false,
     "input": [
      "clf.score(Xtest, ytest)"
     ],
     "language": "python",
     "metadata": {},
     "outputs": [
      {
       "metadata": {},
       "output_type": "pyout",
       "prompt_number": 94,
       "text": [
        "0.95675198587819943"
       ]
      }
     ],
     "prompt_number": 94
    },
    {
     "cell_type": "code",
     "collapsed": false,
     "input": [
      "from sklearn.cross_validation import train_test_split\n",
      "from sklearn.grid_search import GridSearchCV\n",
      "from sklearn.metrics import classification_report\n",
      "from sklearn.metrics import confusion_matrix"
     ],
     "language": "python",
     "metadata": {},
     "outputs": [],
     "prompt_number": 95
    },
    {
     "cell_type": "code",
     "collapsed": false,
     "input": [
      "y_pred = clf2.predict(Xtest)"
     ],
     "language": "python",
     "metadata": {},
     "outputs": [],
     "prompt_number": 103
    },
    {
     "cell_type": "code",
     "collapsed": false,
     "input": [
      "print classification_report(ytest.values, y_pred) "
     ],
     "language": "python",
     "metadata": {},
     "outputs": [
      {
       "output_type": "stream",
       "stream": "stdout",
       "text": [
        "             precision    recall  f1-score   support\n",
        "\n",
        "          0       0.46      0.79      0.58       136\n",
        "          1       0.99      0.96      0.98      3263\n",
        "\n",
        "avg / total       0.97      0.95      0.96      3399\n",
        "\n"
       ]
      }
     ],
     "prompt_number": 104
    },
    {
     "cell_type": "code",
     "collapsed": false,
     "input": [
      "y_pred"
     ],
     "language": "python",
     "metadata": {},
     "outputs": [
      {
       "metadata": {},
       "output_type": "pyout",
       "prompt_number": 142,
       "text": [
        "array([1, 0, 0, ..., 1, 1, 1])"
       ]
      }
     ],
     "prompt_number": 142
    },
    {
     "cell_type": "code",
     "collapsed": false,
     "input": [
      "cm = confusion_matrix(ytest, y_pred, labels=range(2))\n",
      "cm"
     ],
     "language": "python",
     "metadata": {},
     "outputs": [
      {
       "metadata": {},
       "output_type": "pyout",
       "prompt_number": 144,
       "text": [
        "array([[512,  51],\n",
        "       [106, 478]])"
       ]
      }
     ],
     "prompt_number": 144
    }
   ],
   "metadata": {}
  }
 ]
}