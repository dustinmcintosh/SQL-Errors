{
 "metadata": {
  "name": ""
 },
 "nbformat": 3,
 "nbformat_minor": 0,
 "worksheets": [
  {
   "cells": [
    {
     "cell_type": "code",
     "collapsed": false,
     "input": [
      "import pandas as pd\n",
      "from matplotlib import pyplot as plt\n",
      "import numpy as np\n",
      "import matplotlib\n",
      "\n",
      "font = {'family' : 'normal',\n",
      "        'size'   : 24}\n",
      "\n",
      "matplotlib.rc('font', **font)\n",
      "\n",
      "pd.set_option('display.max_rows', 10)\n",
      "pd.set_option('display.max_columns', 8)\n",
      "\n",
      "%matplotlib inline\n",
      "\n"
     ],
     "language": "python",
     "metadata": {},
     "outputs": [],
     "prompt_number": 1
    },
    {
     "cell_type": "code",
     "collapsed": false,
     "input": [
      "#NegativeSample = pd.read_csv('neg_sample.csv')\n",
      "#PositiveSample = pd.read_csv('pos_sample.csv')\n",
      "\n",
      "NegativeSample = pd.read_csv('neg_sample2_5pctTut_50minCut.csv')\n",
      "PositiveSample = pd.read_csv('pos_sample2_SeptCut_1000minCut.csv')\n",
      "\n",
      "NegativeSample['y'] = 0\n",
      "PositiveSample['y'] = 1"
     ],
     "language": "python",
     "metadata": {},
     "outputs": [],
     "prompt_number": 2
    },
    {
     "cell_type": "code",
     "collapsed": false,
     "input": [
      "print len(NegativeSample)\n",
      "print len(PositiveSample)"
     ],
     "language": "python",
     "metadata": {},
     "outputs": [
      {
       "output_type": "stream",
       "stream": "stdout",
       "text": [
        "3709\n",
        "28641\n"
       ]
      }
     ],
     "prompt_number": 3
    },
    {
     "cell_type": "code",
     "collapsed": false,
     "input": [
      "import random\n",
      "rows = random.sample(PositiveSample.index, NegativeSample.shape[0])\n",
      "PositiveSample = PositiveSample.ix[rows]"
     ],
     "language": "python",
     "metadata": {},
     "outputs": [],
     "prompt_number": 4
    },
    {
     "cell_type": "code",
     "collapsed": false,
     "input": [
      "allData = pd.concat([NegativeSample, PositiveSample])"
     ],
     "language": "python",
     "metadata": {},
     "outputs": [],
     "prompt_number": 5
    },
    {
     "cell_type": "code",
     "collapsed": false,
     "input": [
      "len(NegativeSample['executed_by_id'].unique())"
     ],
     "language": "python",
     "metadata": {},
     "outputs": [
      {
       "metadata": {},
       "output_type": "pyout",
       "prompt_number": 6,
       "text": [
        "36"
       ]
      }
     ],
     "prompt_number": 6
    },
    {
     "cell_type": "code",
     "collapsed": false,
     "input": [
      "len(PositiveSample['executed_by_id'].unique())"
     ],
     "language": "python",
     "metadata": {},
     "outputs": [
      {
       "metadata": {},
       "output_type": "pyout",
       "prompt_number": 7,
       "text": [
        "22"
       ]
      }
     ],
     "prompt_number": 7
    },
    {
     "cell_type": "code",
     "collapsed": false,
     "input": [
      "#here I put the times into python's datetime\n",
      "\n",
      "import datetime as dt\n",
      "\n",
      "def get_time(Modedt):\n",
      "    try:\n",
      "        year = Modedt[:4]\n",
      "        month = Modedt[5:7]\n",
      "        day  = Modedt[8:10]\n",
      "        hour  = Modedt[11:13]\n",
      "        minute  = Modedt[14:16]\n",
      "        sec  = Modedt[17:19]\n",
      "        micsec  = Modedt[20:23]\n",
      "        return dt.datetime(int(year), int(month), int(day), int(hour), int(minute), int(sec), int(micsec)*1000)\n",
      "    except:\n",
      "        print Modedt\n",
      "        return float('nan')\n",
      "    \n",
      "print get_time(allData['created_at'].iloc[0])\n",
      "\n",
      "#sometimes Completed_at = nan \n",
      "allData['createdT'] = allData['created_at'].apply(get_time)\n",
      "allData['completedT'] = allData['completed_at'].apply(get_time)\n",
      "allData['deltaTime'] = (allData['completedT']-allData['createdT'])"
     ],
     "language": "python",
     "metadata": {},
     "outputs": [
      {
       "output_type": "stream",
       "stream": "stdout",
       "text": [
        "2014-03-05 08:10:22.319000\n"
       ]
      }
     ],
     "prompt_number": 8
    },
    {
     "cell_type": "code",
     "collapsed": false,
     "input": [
      "allData.shape"
     ],
     "language": "python",
     "metadata": {},
     "outputs": [
      {
       "metadata": {},
       "output_type": "pyout",
       "prompt_number": 9,
       "text": [
        "(7418, 23)"
       ]
      }
     ],
     "prompt_number": 9
    },
    {
     "cell_type": "code",
     "collapsed": false,
     "input": [
      "%run errorClassifier.py\n",
      "allData['Error Class'] = allData['error_message'].apply(identErr2)"
     ],
     "language": "python",
     "metadata": {},
     "outputs": [
      {
       "output_type": "stream",
       "stream": "stdout",
       "text": [
        "rare errors\n",
        "no error\n"
       ]
      }
     ],
     "prompt_number": 10
    },
    {
     "cell_type": "code",
     "collapsed": false,
     "input": [
      "#Count each keyword in each query\n",
      "import re\n",
      "\n",
      "sqlKeywords = pd.read_csv('keywords.txt').dropna()\n",
      "\n",
      "for keyword in sqlKeywords.values:\n",
      "    \n",
      "    keyToSearch = keyword[0].lower()\n",
      "    #print keyToSearch\n",
      "    def getCount(SQLquery):\n",
      "        queryParse = re.findall(r\"[\\w']+|[.,!?'\\\";:)(]\", SQLquery.lower())\n",
      "        return queryParse.count(keyToSearch)\n",
      "    def getFrac(SQLquery):\n",
      "        queryParse = re.findall(r\"[\\w']+|[.,!?'\\\";:)(]\", SQLquery.lower())\n",
      "        return float(queryParse.count(keyToSearch))/len(SQLquery)\n",
      "    def getIsPres(SQLquery):\n",
      "        queryParse = re.findall(r\"[\\w']+|[.,!?'\\\";:)(]\", SQLquery.lower())\n",
      "        if queryParse.count(keyToSearch)>0:\n",
      "            return 1\n",
      "        else:\n",
      "            return 0\n",
      "    \n",
      "    #allData[keyToSearch] = allData['raw_source'].apply(getCount)\n",
      "    allData[keyToSearch+' frac'] = allData['raw_source'].apply(getFrac)\n",
      "    allData[keyToSearch+' presence'] = allData['raw_source'].apply(getIsPres)"
     ],
     "language": "python",
     "metadata": {},
     "outputs": [],
     "prompt_number": 11
    },
    {
     "cell_type": "code",
     "collapsed": false,
     "input": [
      "allData['()_frac'] = allData['raw_source'].apply(lambda x: float(x.count('('))/len(x)+float(x.count(')'))/len(x))\n",
      "allData['white_space_frac'] = allData['raw_source'].apply(lambda x: float(x.count(' '))/len(x))\n",
      "allData['line_break_density'] = allData['raw_source'].apply(lambda x: float(x.count('\\n'))/len(x))\n",
      "allData['length'] = allData['raw_source'].apply(len)\n"
     ],
     "language": "python",
     "metadata": {},
     "outputs": [],
     "prompt_number": 12
    },
    {
     "cell_type": "code",
     "collapsed": false,
     "input": [
      "presenceList = []\n",
      "for i in sqlKeywords.values:\n",
      "    presenceList.append(i[0].lower()+' presence')\n",
      "\n",
      "allData['diversity'] = allData[presenceList].sum(axis=1)"
     ],
     "language": "python",
     "metadata": {},
     "outputs": [],
     "prompt_number": 13
    },
    {
     "cell_type": "code",
     "collapsed": false,
     "input": [],
     "language": "python",
     "metadata": {},
     "outputs": [],
     "prompt_number": 114
    },
    {
     "cell_type": "code",
     "collapsed": false,
     "input": [
      "uniqueErrors = allData['Error Class'].unique()\n",
      "\n",
      "for error in uniqueErrors:\n",
      "    \n",
      "    #print keyToSearch\n",
      "    def isError(thisError):\n",
      "        if thisError == error:\n",
      "            return 1\n",
      "        else:\n",
      "            return 0\n",
      "    \n",
      "    allData[error] = allData['Error Class'].apply(isError)"
     ],
     "language": "python",
     "metadata": {},
     "outputs": [],
     "prompt_number": 14
    },
    {
     "cell_type": "code",
     "collapsed": false,
     "input": [
      "allData.columns"
     ],
     "language": "python",
     "metadata": {},
     "outputs": [
      {
       "metadata": {},
       "output_type": "pyout",
       "prompt_number": 15,
       "text": [
        "Index([u'Unnamed: 0', u'id', u'error_message', u'error_detail', u'executed_by_id', u'report_id', u'created_at', u'completed_at', u'parameters', u'data_source_id', u'raw_source', u'adapter', u'public', u'createdT', u'completedT', u'deltaTime', u'YearMonth', u'isInfrequent', u'isIntermediate', u'isExpert', u'tutorialFrac', u'tutorialCount', u'y', u'Error Class', u'except frac', u'except presence', u'percent frac', u'percent presence', u'all frac', u'all presence', u'exec frac', u'exec presence', u'plan frac', u'plan presence', u'alter frac', u'alter presence', u'execute frac', u'execute presence', u'precision frac', u'precision presence', u'and frac', u'and presence', u'exists frac', u'exists presence', u'primary frac', u'primary presence', u'any frac', u'any presence', u'exit frac', u'exit presence', u'print frac', u'print presence', u'as frac', u'as presence', u'fetch frac', u'fetch presence', u'proc frac', u'proc presence', u'asc frac', u'asc presence', u'file frac', u'file presence', u'procedure frac', u'procedure presence', u'authorization frac', u'authorization presence', u'fillfactor frac', u'fillfactor presence', u'public frac', u'public presence', u'backup frac', u'backup presence', u'for frac', u'for presence', u'raiserror frac', u'raiserror presence', u'begin frac', u'begin presence', u'foreign frac', u'foreign presence', u'read frac', u'read presence', u'between frac', u'between presence', u'freetext frac', u'freetext presence', u'readtext frac', u'readtext presence', u'break frac', u'break presence', u'freetexttable frac', u'freetexttable presence', u'reconfigure frac', u'reconfigure presence', u'browse frac', u'browse presence', u'from frac', u'from presence', u'references frac', u'references presence', ...], dtype='object')"
       ]
      }
     ],
     "prompt_number": 15
    },
    {
     "cell_type": "code",
     "collapsed": false,
     "input": [
      "y = allData['y']\n",
      "X = allData.drop(['id', 'error_message', 'error_detail', 'executed_by_id',\n",
      "       'report_id', 'created_at', 'completed_at', 'parameters',\n",
      "       'data_source_id', 'raw_source', 'adapter', 'public', 'createdT',\n",
      "       'completedT', 'deltaTime', 'Error Class', 'y', 'Unnamed: 0', \n",
      "       'isInfrequent', 'isIntermediate', 'isExpert', 'tutorialFrac', 'YearMonth', 'tutorialCount'], axis = 1)\n",
      "X = X.drop('length', axis = 1)"
     ],
     "language": "python",
     "metadata": {},
     "outputs": [],
     "prompt_number": 16
    },
    {
     "cell_type": "code",
     "collapsed": false,
     "input": [
      "print X.columns\n",
      "print len(X.columns)"
     ],
     "language": "python",
     "metadata": {},
     "outputs": [
      {
       "output_type": "stream",
       "stream": "stdout",
       "text": [
        "Index([u'except frac', u'except presence', u'percent frac', u'percent presence', u'all frac', u'all presence', u'exec frac', u'exec presence', u'plan frac', u'plan presence', u'alter frac', u'alter presence', u'execute frac', u'execute presence', u'precision frac', u'precision presence', u'and frac', u'and presence', u'exists frac', u'exists presence', u'primary frac', u'primary presence', u'any frac', u'any presence', u'exit frac', u'exit presence', u'print frac', u'print presence', u'as frac', u'as presence', u'fetch frac', u'fetch presence', u'proc frac', u'proc presence', u'asc frac', u'asc presence', u'file frac', u'file presence', u'procedure frac', u'procedure presence', u'authorization frac', u'authorization presence', u'fillfactor frac', u'fillfactor presence', u'public frac', u'public presence', u'backup frac', u'backup presence', u'for frac', u'for presence', u'raiserror frac', u'raiserror presence', u'begin frac', u'begin presence', u'foreign frac', u'foreign presence', u'read frac', u'read presence', u'between frac', u'between presence', u'freetext frac', u'freetext presence', u'readtext frac', u'readtext presence', u'break frac', u'break presence', u'freetexttable frac', u'freetexttable presence', u'reconfigure frac', u'reconfigure presence', u'browse frac', u'browse presence', u'from frac', u'from presence', u'references frac', u'references presence', u'bulk frac', u'bulk presence', u'full frac', u'full presence', u'replication frac', u'replication presence', u'by frac', u'by presence', u'function frac', u'function presence', u'restore frac', u'restore presence', u'cascade frac', u'cascade presence', u'goto frac', u'goto presence', u'restrict frac', u'restrict presence', u'case frac', u'case presence', u'grant frac', u'grant presence', u'return frac', u'return presence', ...], dtype='object')\n",
        "395\n"
       ]
      }
     ],
     "prompt_number": 17
    },
    {
     "cell_type": "code",
     "collapsed": false,
     "input": [
      "#df = random subset of 1000 of the errors\n",
      "import random\n",
      "rowstrain = random.sample(X.index, allData.shape[0]*8/10)\n",
      "Xtrain = X.ix[rowstrain]\n",
      "ytrain = y.ix[rowstrain]\n",
      "\n",
      "Xtest = X.drop(rowstrain)\n",
      "ytest = y.drop(rowstrain)"
     ],
     "language": "python",
     "metadata": {},
     "outputs": [],
     "prompt_number": 18
    },
    {
     "cell_type": "code",
     "collapsed": false,
     "input": [
      "from sklearn.ensemble import RandomForestClassifier\n",
      "\n",
      "clf2 = RandomForestClassifier()\n",
      "clf2.fit(Xtrain, ytrain)"
     ],
     "language": "python",
     "metadata": {},
     "outputs": [
      {
       "metadata": {},
       "output_type": "pyout",
       "prompt_number": 19,
       "text": [
        "RandomForestClassifier(bootstrap=True, compute_importances=None,\n",
        "            criterion='gini', max_depth=None, max_features='auto',\n",
        "            min_density=None, min_samples_leaf=1, min_samples_split=2,\n",
        "            n_estimators=10, n_jobs=1, oob_score=False, random_state=None,\n",
        "            verbose=0)"
       ]
      }
     ],
     "prompt_number": 19
    },
    {
     "cell_type": "code",
     "collapsed": false,
     "input": [
      "from sklearn.cross_validation import train_test_split\n",
      "from sklearn.grid_search import GridSearchCV\n",
      "from sklearn.metrics import classification_report\n",
      "from sklearn.metrics import confusion_matrix\n",
      "from sklearn.metrics import roc_curve, auc"
     ],
     "language": "python",
     "metadata": {},
     "outputs": [],
     "prompt_number": 53
    },
    {
     "cell_type": "code",
     "collapsed": false,
     "input": [
      "y_pred = clf2.predict(Xtest)"
     ],
     "language": "python",
     "metadata": {},
     "outputs": [],
     "prompt_number": 40
    },
    {
     "cell_type": "code",
     "collapsed": false,
     "input": [
      "cm = confusion_matrix(ytest, y_pred, labels=range(2))\n",
      "cm"
     ],
     "language": "python",
     "metadata": {},
     "outputs": [
      {
       "metadata": {},
       "output_type": "pyout",
       "prompt_number": 41,
       "text": [
        "array([[589,  70],\n",
        "       [117, 548]])"
       ]
      }
     ],
     "prompt_number": 41
    },
    {
     "cell_type": "code",
     "collapsed": false,
     "input": [
      "clf2.score(Xtest, ytest)"
     ],
     "language": "python",
     "metadata": {},
     "outputs": [
      {
       "metadata": {},
       "output_type": "pyout",
       "prompt_number": 42,
       "text": [
        "0.85876132930513593"
       ]
      }
     ],
     "prompt_number": 42
    },
    {
     "cell_type": "code",
     "collapsed": false,
     "input": [
      "print classification_report(ytest.values, y_pred)"
     ],
     "language": "python",
     "metadata": {},
     "outputs": [
      {
       "output_type": "stream",
       "stream": "stdout",
       "text": [
        "             precision    recall  f1-score   support\n",
        "\n",
        "          0       0.83      0.89      0.86       659\n",
        "          1       0.89      0.82      0.85       665\n",
        "\n",
        "avg / total       0.86      0.86      0.86      1324\n",
        "\n"
       ]
      }
     ],
     "prompt_number": 43
    },
    {
     "cell_type": "code",
     "collapsed": false,
     "input": [
      "y_score = clf2.predict_proba(Xtest)"
     ],
     "language": "python",
     "metadata": {},
     "outputs": [],
     "prompt_number": 48
    },
    {
     "cell_type": "code",
     "collapsed": false,
     "input": [
      "y"
     ],
     "language": "python",
     "metadata": {},
     "outputs": [
      {
       "metadata": {},
       "output_type": "pyout",
       "prompt_number": 50,
       "text": [
        "0    0\n",
        "1    0\n",
        "2    0\n",
        "...\n",
        "3028    1\n",
        "819     1\n",
        "1002    1\n",
        "Name: y, Length: 7418, dtype: int64"
       ]
      }
     ],
     "prompt_number": 50
    },
    {
     "cell_type": "code",
     "collapsed": false,
     "input": [
      "y_score[:, 1]"
     ],
     "language": "python",
     "metadata": {},
     "outputs": [
      {
       "metadata": {},
       "output_type": "pyout",
       "prompt_number": 51,
       "text": [
        "array([ 0.7       ,  0.01666667,  0.53333333, ...,  0.8       ,\n",
        "        1.        ,  0.3       ])"
       ]
      }
     ],
     "prompt_number": 51
    },
    {
     "cell_type": "code",
     "collapsed": false,
     "input": [
      "fpr = dict()\n",
      "tpr = dict()\n",
      "roc_auc = dict()\n",
      "fpr[0], tpr[0], _ = roc_curve(1-ytest, y_score[:, 1])\n",
      "roc_auc[0] = auc(fpr[0], tpr[0])\n",
      "fpr[1], tpr[1], _ = roc_curve(ytest, y_score[:, 1])\n",
      "roc_auc[1] = auc(fpr[1], tpr[1])"
     ],
     "language": "python",
     "metadata": {},
     "outputs": [],
     "prompt_number": 59
    },
    {
     "cell_type": "code",
     "collapsed": false,
     "input": [
      "list((1-ytest).values).extend(list(ytest.values))"
     ],
     "language": "python",
     "metadata": {},
     "outputs": [],
     "prompt_number": 65
    },
    {
     "cell_type": "code",
     "collapsed": false,
     "input": [
      "y_score"
     ],
     "language": "python",
     "metadata": {},
     "outputs": [
      {
       "metadata": {},
       "output_type": "pyout",
       "prompt_number": 79,
       "text": [
        "array([[ 0.3       ,  0.7       ],\n",
        "       [ 0.98333333,  0.01666667],\n",
        "       [ 0.46666667,  0.53333333],\n",
        "       ..., \n",
        "       [ 0.2       ,  0.8       ],\n",
        "       [ 0.        ,  1.        ],\n",
        "       [ 0.7       ,  0.3       ]])"
       ]
      }
     ],
     "prompt_number": 79
    },
    {
     "cell_type": "code",
     "collapsed": false,
     "input": [
      "np.array(list((1-ytest).values)+(list(ytest.values)))"
     ],
     "language": "python",
     "metadata": {},
     "outputs": [
      {
       "metadata": {},
       "output_type": "pyout",
       "prompt_number": 70,
       "text": [
        "array([1, 1, 1, ..., 1, 1, 1])"
       ]
      }
     ],
     "prompt_number": 70
    },
    {
     "cell_type": "code",
     "collapsed": false,
     "input": [
      "fpr[\"micro\"], tpr[\"micro\"], _ = roc_curve(np.array(list((1-ytest).values)+(list(ytest.values))), y_score.ravel())\n",
      "roc_auc[\"micro\"] = auc(fpr[\"micro\"], tpr[\"micro\"])"
     ],
     "language": "python",
     "metadata": {},
     "outputs": [],
     "prompt_number": 71
    },
    {
     "cell_type": "code",
     "collapsed": false,
     "input": [
      "roc_auc"
     ],
     "language": "python",
     "metadata": {},
     "outputs": [
      {
       "metadata": {},
       "output_type": "pyout",
       "prompt_number": 73,
       "text": [
        "{0: 0.062634203110203429, 1: 0.9373657968897966, 'micro': 0.50079550433092068}"
       ]
      }
     ],
     "prompt_number": 73
    },
    {
     "cell_type": "code",
     "collapsed": false,
     "input": [
      "plt.figure()\n",
      "plt.plot(fpr[1], tpr[1], label='ROC curve (area = %0.2f)' % roc_auc[1])\n",
      "\n",
      "plt.plot([0, 1], [0, 1], 'k--')\n",
      "plt.xlim([0.0, 1.0])\n",
      "plt.ylim([0.0, 1.05])\n",
      "plt.xlabel('False Positive Rate')\n",
      "plt.ylabel('True Positive Rate')\n",
      "plt.title('ROC curve')\n",
      "#plt.legend(loc=\"lower right\")\n",
      "print 'ROC curve (area = %0.2f)'% roc_auc[1]"
     ],
     "language": "python",
     "metadata": {},
     "outputs": [
      {
       "output_type": "stream",
       "stream": "stdout",
       "text": [
        "ROC curve (area = 0.94)\n"
       ]
      },
      {
       "metadata": {},
       "output_type": "display_data",
       "png": "[encoded data removed]",
       "text": [
        "<matplotlib.figure.Figure at 0x7f21305757d0>"
       ]
      }
     ],
     "prompt_number": 82
    },
    {
     "cell_type": "code",
     "collapsed": false,
     "input": [
      "Importance = pd.Series(clf2.feature_importances_, index = X.columns.values)\n",
      "Importance=Importance[Importance>0]\n",
      "Importance.sort(ascending = False)\n",
      "\n",
      "font = {'family' : 'normal',\n",
      "        'size'   : 24}\n",
      "\n",
      "matplotlib.rc('font', **font)\n",
      "\n",
      "Importance[:15].plot(kind='barh', figsize = (8, 5), grid=False)"
     ],
     "language": "python",
     "metadata": {},
     "outputs": [
      {
       "metadata": {},
       "output_type": "pyout",
       "prompt_number": 38,
       "text": [
        "<matplotlib.axes.AxesSubplot at 0x7f21304702d0>"
       ]
      },
      {
       "metadata": {},
       "output_type": "display_data",
       "png": "[encoded data removed]",
       "text": [
        "<matplotlib.figure.Figure at 0x7f2130512150>"
       ]
      }
     ],
     "prompt_number": 38
    },
    {
     "cell_type": "code",
     "collapsed": false,
     "input": [
      "from sklearn.svm import SVC\n",
      "\n",
      "clf = SVC(kernel = 'linear')\n",
      "clf.fit(Xtrain, ytrain)\n"
     ],
     "language": "python",
     "metadata": {},
     "outputs": [],
     "prompt_number": "*"
    },
    {
     "cell_type": "code",
     "collapsed": false,
     "input": [
      "clf.score(Xtest, ytest)"
     ],
     "language": "python",
     "metadata": {},
     "outputs": [
      {
       "metadata": {},
       "output_type": "pyout",
       "prompt_number": 231,
       "text": [
        "0.57677902621722843"
       ]
      }
     ],
     "prompt_number": 231
    },
    {
     "cell_type": "code",
     "collapsed": false,
     "input": [
      "y_pred = clf.predict(Xtest)"
     ],
     "language": "python",
     "metadata": {},
     "outputs": []
    },
    {
     "cell_type": "code",
     "collapsed": false,
     "input": [
      "from sklearn.cross_validation import train_test_split\n",
      "from sklearn.grid_search import GridSearchCV\n",
      "from sklearn.metrics import classification_report\n",
      "from sklearn.metrics import confusion_matrix\n",
      "from sklearn.metrics import roc_curve"
     ],
     "language": "python",
     "metadata": {},
     "outputs": [],
     "prompt_number": 83
    },
    {
     "cell_type": "code",
     "collapsed": false,
     "input": [
      "print classification_report(ytest.values, y_pred) "
     ],
     "language": "python",
     "metadata": {},
     "outputs": [
      {
       "output_type": "stream",
       "stream": "stdout",
       "text": [
        "             precision    recall  f1-score   support\n",
        "\n",
        "          0       0.68      0.74      0.71       658\n",
        "          1       0.72      0.66      0.69       677\n",
        "\n",
        "avg / total       0.70      0.70      0.70      1335\n",
        "\n"
       ]
      }
     ],
     "prompt_number": 235
    },
    {
     "cell_type": "code",
     "collapsed": false,
     "input": [
      "cm = confusion_matrix(ytest, y_pred, labels=range(2))\n",
      "cm"
     ],
     "language": "python",
     "metadata": {},
     "outputs": [
      {
       "metadata": {},
       "output_type": "pyout",
       "prompt_number": 35,
       "text": [
        "array([[589,  70],\n",
        "       [117, 548]])"
       ]
      }
     ],
     "prompt_number": 35
    },
    {
     "cell_type": "code",
     "collapsed": false,
     "input": [
      "\n",
      "from sklearn.grid_search import GridSearchCV"
     ],
     "language": "python",
     "metadata": {},
     "outputs": [],
     "prompt_number": 132
    },
    {
     "cell_type": "code",
     "collapsed": false,
     "input": [
      "#try out logistic regression\n",
      "from sklearn.linear_model import LogisticRegression\n",
      "\n",
      "param_grid = {'C': [1e1, 1e2, 1e3, 1e4, 1e5],\n",
      "         }\n",
      "\n",
      "clf3 = GridSearchCV(\n",
      "    LogisticRegression(class_weight='auto'), param_grid)\n",
      "\n",
      "#clf3 = LogisticRegression()"
     ],
     "language": "python",
     "metadata": {},
     "outputs": [],
     "prompt_number": 99
    },
    {
     "cell_type": "code",
     "collapsed": false,
     "input": [
      "from time import time\n",
      "t0 = time()\n",
      "clf3.fit(Xtrain, ytrain)\n",
      "\n",
      "y_pred3 = clf3.predict(Xtest)\n",
      "cm = confusion_matrix(ytest, y_pred3, labels=range(2))\n",
      "\n",
      "print(\"done in %0.3fs\" % (time() - t0))\n",
      "print(\"Best estimator found by grid search:\")\n",
      "print(clf3.best_estimator_)\n",
      "\n"
     ],
     "language": "python",
     "metadata": {},
     "outputs": [
      {
       "output_type": "stream",
       "stream": "stdout",
       "text": [
        "done in 25.271s\n",
        "Best estimator found by grid search:\n",
        "LogisticRegression(C=10000.0, class_weight=auto, dual=False,\n",
        "          fit_intercept=True, intercept_scaling=1, penalty=l2,\n",
        "          random_state=None, tol=0.0001)\n"
       ]
      }
     ],
     "prompt_number": 100
    },
    {
     "cell_type": "code",
     "collapsed": false,
     "input": [
      "y_pred3.shape"
     ],
     "language": "python",
     "metadata": {},
     "outputs": [
      {
       "metadata": {},
       "output_type": "pyout",
       "prompt_number": 96,
       "text": [
        "(1324,)"
       ]
      }
     ],
     "prompt_number": 96
    },
    {
     "cell_type": "code",
     "collapsed": false,
     "input": [
      "ytest.shape"
     ],
     "language": "python",
     "metadata": {},
     "outputs": [
      {
       "metadata": {},
       "output_type": "pyout",
       "prompt_number": 95,
       "text": [
        "(1324,)"
       ]
      }
     ],
     "prompt_number": 95
    },
    {
     "cell_type": "code",
     "collapsed": false,
     "input": [
      "print classification_report(ytest.values, y_pred3) \n",
      " \n",
      "print('Confusion Matrix')\n",
      "#Make a data frame so we can have some nice labels\n",
      "cm\n"
     ],
     "language": "python",
     "metadata": {},
     "outputs": [
      {
       "output_type": "stream",
       "stream": "stdout",
       "text": [
        "             precision    recall  f1-score   support\n",
        "\n",
        "          0       0.72      0.75      0.74       659\n",
        "          1       0.74      0.71      0.73       665\n",
        "\n",
        "avg / total       0.73      0.73      0.73      1324\n",
        "\n",
        "Confusion Matrix\n"
       ]
      },
      {
       "metadata": {},
       "output_type": "pyout",
       "prompt_number": 98,
       "text": [
        "array([[495, 164],\n",
        "       [191, 474]])"
       ]
      }
     ],
     "prompt_number": 98
    },
    {
     "cell_type": "code",
     "collapsed": false,
     "input": [
      "print cm\n",
      "print classification_report(ytest.values, y_pred3) "
     ],
     "language": "python",
     "metadata": {},
     "outputs": []
    },
    {
     "cell_type": "code",
     "collapsed": false,
     "input": [
      "Importance = pd.Series(clf3.coef_[0], index = X.columns.values)\n",
      "Importance.sort(ascending = False)\n",
      "\n",
      "font = {'family' : 'normal',\n",
      "        'size'   : 24}\n",
      "\n",
      "matplotlib.rc('font', **font)\n",
      "\n",
      "Importance[:15].plot(kind='barh', figsize = (8, 5), grid=False)"
     ],
     "language": "python",
     "metadata": {},
     "outputs": [
      {
       "metadata": {},
       "output_type": "pyout",
       "prompt_number": 31,
       "text": [
        "<matplotlib.axes.AxesSubplot at 0x7f21304b1490>"
       ]
      },
      {
       "metadata": {},
       "output_type": "display_data",
       "png": "[encoded data removed]",
       "text": [
        "<matplotlib.figure.Figure at 0x7f21304b07d0>"
       ]
      }
     ],
     "prompt_number": 31
    }
   ],
   "metadata": {}
  }
 ]
}