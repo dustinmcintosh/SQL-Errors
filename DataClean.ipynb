{
 "metadata": {
  "name": ""
 },
 "nbformat": 3,
 "nbformat_minor": 0,
 "worksheets": [
  {
   "cells": [
    {
     "cell_type": "code",
     "collapsed": false,
     "input": [
      "import pandas as pd\n",
      "from matplotlib import pyplot as plt\n",
      "import numpy as np\n",
      "import matplotlib\n",
      "\n",
      "font = {'family' : 'normal',\n",
      "        'size'   : 24}\n",
      "\n",
      "matplotlib.rc('font', **font)\n",
      "\n",
      "pd.set_option('display.max_rows', 10)\n",
      "pd.set_option('display.max_columns', 8)\n",
      "\n",
      "%matplotlib inline\n",
      "\n",
      "data = pd.read_csv('error_message_data_v2.csv')"
     ],
     "language": "python",
     "metadata": {},
     "outputs": [
      {
       "output_type": "stream",
       "stream": "stderr",
       "text": [
        "/usr/lib/python2.7/dist-packages/pandas/io/parsers.py:1070: DtypeWarning: Columns (11) have mixed types. Specify dtype option on import or set low_memory=False.\n",
        "  data = self._reader.read(nrows)\n"
       ]
      }
     ],
     "prompt_number": 1
    },
    {
     "cell_type": "code",
     "collapsed": false,
     "input": [
      "#get rid of empty queries\n",
      "data = data.dropna(subset=['raw_source'])"
     ],
     "language": "python",
     "metadata": {},
     "outputs": [],
     "prompt_number": 2
    },
    {
     "cell_type": "code",
     "collapsed": false,
     "input": [
      "#here I put the times into python's datetime\n",
      "\n",
      "import datetime as dt\n",
      "\n",
      "def get_time(Modedt):\n",
      "    try:\n",
      "        year = Modedt[:4]\n",
      "        month = Modedt[5:7]\n",
      "        day  = Modedt[8:10]\n",
      "        hour  = Modedt[11:13]\n",
      "        minute  = Modedt[14:16]\n",
      "        sec  = Modedt[17:19]\n",
      "        micsec  = Modedt[20:23]\n",
      "        return dt.datetime(int(year), int(month), int(day), int(hour), int(minute), int(sec), int(micsec)*1000)\n",
      "    except TypeError:\n",
      "        #print Modedt\n",
      "        return float('nan')\n",
      "    \n",
      "print get_time(data['created_at'].iloc[0])\n",
      "\n",
      "#sometimes Completed_at = nan \n",
      "data['createdT'] = data['created_at'].apply(get_time)\n",
      "data['completedT'] = data['completed_at'].apply(get_time)\n",
      "data['deltaTime'] = (data['completedT']-data['createdT'])"
     ],
     "language": "python",
     "metadata": {},
     "outputs": [
      {
       "output_type": "stream",
       "stream": "stdout",
       "text": [
        "2013-11-14 02:24:06.940000\n"
       ]
      }
     ],
     "prompt_number": 3
    },
    {
     "cell_type": "code",
     "collapsed": false,
     "input": [
      "userList = data['executed_by_id'].unique()"
     ],
     "language": "python",
     "metadata": {},
     "outputs": [],
     "prompt_number": 4
    },
    {
     "cell_type": "code",
     "collapsed": false,
     "input": [
      "#len(data[data['executed_by_id'] == userList[1]])\n",
      "#data[data['executed_by_id'] == userList[1]]['raw_source'].value_counts()\n",
      "#data[data['executed_by_id'] == userList[1]]['raw_source'].value_counts().index.values"
     ],
     "language": "python",
     "metadata": {},
     "outputs": [],
     "prompt_number": 260
    },
    {
     "cell_type": "code",
     "collapsed": false,
     "input": [
      "df = [[0]*15]\n",
      "for user in userList:\n",
      "    dataSubset = data[data['executed_by_id'] == user]\n",
      "    for uniqueQuery in dataSubset['raw_source'].unique():\n",
      "        querySet = dataSubset[dataSubset['raw_source']==uniqueQuery]\n",
      "        minTime = min(querySet['createdT'])\n",
      "        df = df + querySet[querySet['createdT']==minTime].values.tolist()"
     ],
     "language": "python",
     "metadata": {},
     "outputs": [],
     "prompt_number": 5
    },
    {
     "cell_type": "code",
     "collapsed": false,
     "input": [
      "df = pd.DataFrame(df[1:], columns = data.columns)"
     ],
     "language": "python",
     "metadata": {},
     "outputs": [],
     "prompt_number": 6
    },
    {
     "cell_type": "code",
     "collapsed": false,
     "input": [
      "df"
     ],
     "language": "python",
     "metadata": {},
     "outputs": [
      {
       "html": [
        "<div style=\"max-height:1000px;max-width:1500px;overflow:auto;\">\n",
        "<table border=\"1\" class=\"dataframe\">\n",
        "  <thead>\n",
        "    <tr style=\"text-align: right;\">\n",
        "      <th></th>\n",
        "      <th>id</th>\n",
        "      <th>error_message</th>\n",
        "      <th>error_detail</th>\n",
        "      <th>executed_by_id</th>\n",
        "      <th>report_id</th>\n",
        "      <th>created_at</th>\n",
        "      <th>completed_at</th>\n",
        "      <th>parameters</th>\n",
        "      <th></th>\n",
        "    </tr>\n",
        "  </thead>\n",
        "  <tbody>\n",
        "    <tr>\n",
        "      <th>0</th>\n",
        "      <td>     3</td>\n",
        "      <td> NaN</td>\n",
        "      <td> NaN</td>\n",
        "      <td> 3</td>\n",
        "      <td>  1</td>\n",
        "      <td> 2013-11-14T02:24:06.940Z</td>\n",
        "      <td> 2013-11-14T02:24:08.939Z</td>\n",
        "      <td> {\"limit\":100}</td>\n",
        "      <td>...</td>\n",
        "    </tr>\n",
        "    <tr>\n",
        "      <th>1</th>\n",
        "      <td> 39479</td>\n",
        "      <td> NaN</td>\n",
        "      <td> NaN</td>\n",
        "      <td> 3</td>\n",
        "      <td>  1</td>\n",
        "      <td> 2014-06-15T01:14:07.585Z</td>\n",
        "      <td> 2014-06-15T01:14:11.972Z</td>\n",
        "      <td>            {}</td>\n",
        "      <td>...</td>\n",
        "    </tr>\n",
        "    <tr>\n",
        "      <th>2</th>\n",
        "      <td>    15</td>\n",
        "      <td> NaN</td>\n",
        "      <td> NaN</td>\n",
        "      <td> 3</td>\n",
        "      <td> 10</td>\n",
        "      <td> 2013-11-14T20:00:55.983Z</td>\n",
        "      <td> 2013-11-14T20:00:57.861Z</td>\n",
        "      <td> {\"limit\":100}</td>\n",
        "      <td>...</td>\n",
        "    </tr>\n",
        "    <tr>\n",
        "      <th>3</th>\n",
        "      <td>    18</td>\n",
        "      <td> NaN</td>\n",
        "      <td> NaN</td>\n",
        "      <td> 3</td>\n",
        "      <td> 11</td>\n",
        "      <td> 2013-11-14T21:05:33.401Z</td>\n",
        "      <td> 2013-11-14T21:05:36.580Z</td>\n",
        "      <td> {\"limit\":100}</td>\n",
        "      <td>...</td>\n",
        "    </tr>\n",
        "    <tr>\n",
        "      <th>4</th>\n",
        "      <td> 39467</td>\n",
        "      <td> NaN</td>\n",
        "      <td> NaN</td>\n",
        "      <td> 3</td>\n",
        "      <td> 11</td>\n",
        "      <td> 2014-06-15T01:04:02.328Z</td>\n",
        "      <td> 2014-06-15T01:04:05.062Z</td>\n",
        "      <td>            {}</td>\n",
        "      <td>...</td>\n",
        "    </tr>\n",
        "    <tr>\n",
        "      <th>5</th>\n",
        "      <td>    19</td>\n",
        "      <td> NaN</td>\n",
        "      <td> NaN</td>\n",
        "      <td> 3</td>\n",
        "      <td> 12</td>\n",
        "      <td> 2013-11-14T22:29:51.646Z</td>\n",
        "      <td> 2013-11-14T22:29:53.372Z</td>\n",
        "      <td> {\"limit\":100}</td>\n",
        "      <td>...</td>\n",
        "    </tr>\n",
        "    <tr>\n",
        "      <th>6</th>\n",
        "      <td> 39468</td>\n",
        "      <td> NaN</td>\n",
        "      <td> NaN</td>\n",
        "      <td> 3</td>\n",
        "      <td> 12</td>\n",
        "      <td> 2014-06-15T01:05:07.193Z</td>\n",
        "      <td> 2014-06-15T01:05:09.881Z</td>\n",
        "      <td>            {}</td>\n",
        "      <td>...</td>\n",
        "    </tr>\n",
        "    <tr>\n",
        "      <th>7</th>\n",
        "      <td>    44</td>\n",
        "      <td> NaN</td>\n",
        "      <td> NaN</td>\n",
        "      <td> 3</td>\n",
        "      <td> 15</td>\n",
        "      <td> 2013-11-15T01:01:48.951Z</td>\n",
        "      <td> 2013-11-15T01:01:50.629Z</td>\n",
        "      <td> {\"limit\":100}</td>\n",
        "      <td>...</td>\n",
        "    </tr>\n",
        "    <tr>\n",
        "      <th>8</th>\n",
        "      <td>    96</td>\n",
        "      <td> NaN</td>\n",
        "      <td> NaN</td>\n",
        "      <td> 3</td>\n",
        "      <td> 32</td>\n",
        "      <td> 2013-11-15T19:42:03.442Z</td>\n",
        "      <td> 2013-11-15T19:42:07.157Z</td>\n",
        "      <td> {\"limit\":100}</td>\n",
        "      <td>...</td>\n",
        "    </tr>\n",
        "    <tr>\n",
        "      <th>9</th>\n",
        "      <td>   116</td>\n",
        "      <td> NaN</td>\n",
        "      <td> NaN</td>\n",
        "      <td> 3</td>\n",
        "      <td> 33</td>\n",
        "      <td> 2013-11-15T20:13:39.908Z</td>\n",
        "      <td> 2013-11-15T20:13:41.909Z</td>\n",
        "      <td> {\"limit\":100}</td>\n",
        "      <td>...</td>\n",
        "    </tr>\n",
        "    <tr>\n",
        "      <th></th>\n",
        "      <td>...</td>\n",
        "      <td>...</td>\n",
        "      <td>...</td>\n",
        "      <td>...</td>\n",
        "      <td>...</td>\n",
        "      <td>...</td>\n",
        "      <td>...</td>\n",
        "      <td>...</td>\n",
        "    </tr>\n",
        "  </tbody>\n",
        "</table>\n",
        "<p>230244 rows \u00d7 15 columns</p>\n",
        "</div>"
       ],
       "metadata": {},
       "output_type": "pyout",
       "prompt_number": 7,
       "text": [
        "      id error_message error_detail  executed_by_id  report_id  \\\n",
        "0      3           NaN          NaN               3          1   \n",
        "1  39479           NaN          NaN               3          1   \n",
        "2     15           NaN          NaN               3         10   \n",
        "3     18           NaN          NaN               3         11   \n",
        "4  39467           NaN          NaN               3         11   \n",
        "5     19           NaN          NaN               3         12   \n",
        "6  39468           NaN          NaN               3         12   \n",
        "7     44           NaN          NaN               3         15   \n",
        "8     96           NaN          NaN               3         32   \n",
        "9    116           NaN          NaN               3         33   \n",
        "     ...           ...          ...             ...        ...   \n",
        "\n",
        "                 created_at              completed_at     parameters      \n",
        "0  2013-11-14T02:24:06.940Z  2013-11-14T02:24:08.939Z  {\"limit\":100} ...  \n",
        "1  2014-06-15T01:14:07.585Z  2014-06-15T01:14:11.972Z             {} ...  \n",
        "2  2013-11-14T20:00:55.983Z  2013-11-14T20:00:57.861Z  {\"limit\":100} ...  \n",
        "3  2013-11-14T21:05:33.401Z  2013-11-14T21:05:36.580Z  {\"limit\":100} ...  \n",
        "4  2014-06-15T01:04:02.328Z  2014-06-15T01:04:05.062Z             {} ...  \n",
        "5  2013-11-14T22:29:51.646Z  2013-11-14T22:29:53.372Z  {\"limit\":100} ...  \n",
        "6  2014-06-15T01:05:07.193Z  2014-06-15T01:05:09.881Z             {} ...  \n",
        "7  2013-11-15T01:01:48.951Z  2013-11-15T01:01:50.629Z  {\"limit\":100} ...  \n",
        "8  2013-11-15T19:42:03.442Z  2013-11-15T19:42:07.157Z  {\"limit\":100} ...  \n",
        "9  2013-11-15T20:13:39.908Z  2013-11-15T20:13:41.909Z  {\"limit\":100} ...  \n",
        "                        ...                       ...            ...      \n",
        "\n",
        "[230244 rows x 15 columns]"
       ]
      }
     ],
     "prompt_number": 7
    },
    {
     "cell_type": "code",
     "collapsed": false,
     "input": [
      "df.to_csv('cleaned_data.csv')"
     ],
     "language": "python",
     "metadata": {},
     "outputs": [],
     "prompt_number": 264
    },
    {
     "cell_type": "code",
     "collapsed": false,
     "input": [
      "df = pd.read_csv('cleaned_data.csv')"
     ],
     "language": "python",
     "metadata": {},
     "outputs": [],
     "prompt_number": 206
    },
    {
     "cell_type": "code",
     "collapsed": false,
     "input": [
      "#here I put the times into python's datetime\n",
      "\n",
      "import datetime as dt\n",
      "\n",
      "def get_time(Modedt):\n",
      "    try:\n",
      "        year = Modedt[:4]\n",
      "        month = Modedt[5:7]\n",
      "        day  = Modedt[8:10]\n",
      "        hour  = Modedt[11:13]\n",
      "        minute  = Modedt[14:16]\n",
      "        sec  = Modedt[17:19]\n",
      "        micsec  = Modedt[20:23]\n",
      "        return dt.datetime(int(year), int(month), int(day), int(hour), int(minute), int(sec), int(micsec)*1000)\n",
      "    except:\n",
      "        #print Modedt\n",
      "        return float('nan')\n",
      "    \n",
      "print get_time(data['created_at'].iloc[0])\n",
      "\n",
      "#sometimes Completed_at = nan \n",
      "df['createdT'] = df['created_at'].apply(get_time)\n",
      "df['completedT'] = df['completed_at'].apply(get_time)\n",
      "df['deltaTime'] = (df['completedT']-df['createdT'])"
     ],
     "language": "python",
     "metadata": {},
     "outputs": [
      {
       "output_type": "stream",
       "stream": "stdout",
       "text": [
        "2013-11-14 02:24:06.940000\n"
       ]
      }
     ],
     "prompt_number": 8
    },
    {
     "cell_type": "code",
     "collapsed": false,
     "input": [
      "df = df.dropna(subset = ['createdT'])\n",
      "df = df.dropna(subset = ['completedT'])"
     ],
     "language": "python",
     "metadata": {},
     "outputs": [],
     "prompt_number": 9
    },
    {
     "cell_type": "code",
     "collapsed": false,
     "input": [
      "font = {'family' : 'normal',\n",
      "        'size'   : 24}\n",
      "\n",
      "matplotlib.rc('font', **font)\n",
      "\n",
      "def getYearMonth(timestamp):\n",
      "    return dt.date(timestamp.year, timestamp.month, 15)\n",
      "\n",
      "df['YearMonth'] = df['createdT'].apply(getYearMonth)\n",
      "df['YearMonth'].value_counts()\n",
      "\n",
      "numQueries = df['YearMonth'].value_counts()/sum(df['YearMonth'].value_counts())\n",
      "numQueries = numQueries.sort_index()\n",
      "\n",
      "#Number of queries of people that \n",
      "numQueries[:-1].plot(kind=\"bar\", color = 'k', figsize = (8, 5), grid=False)\n",
      "\n",
      "monthList = ['Nov 2013', 'Dec 2013', 'Jan 2014', 'Feb 2014', 'Mar 2014', 'Apr 2014', 'May 2014', 'Jun 2014', 'Jul 2014', 'Aug 2014', 'Sep 2014', 'Oct 2014', 'Nov 2014', 'Dec 2014']\n",
      "plt.xlabel('Time')\n",
      "plt.ylabel('Unique queries/Total Queries')\n",
      "plt.xticks(np.arange(0.75, 15.75), monthList)"
     ],
     "language": "python",
     "metadata": {},
     "outputs": [
      {
       "metadata": {},
       "output_type": "pyout",
       "prompt_number": 10,
       "text": [
        "([<matplotlib.axis.XTick at 0x7f8eb9ce4710>,\n",
        "  <matplotlib.axis.XTick at 0x7f8eb4c14e10>,\n",
        "  <matplotlib.axis.XTick at 0x7f8eb4a57510>,\n",
        "  <matplotlib.axis.XTick at 0x7f8eb4a55b10>,\n",
        "  <matplotlib.axis.XTick at 0x7f8eb4a54110>,\n",
        "  <matplotlib.axis.XTick at 0x7f8eb4a52250>,\n",
        "  <matplotlib.axis.XTick at 0x7f8eb4a50390>,\n",
        "  <matplotlib.axis.XTick at 0x7f8eb4a4ed10>,\n",
        "  <matplotlib.axis.XTick at 0x7f8eb4a4d710>,\n",
        "  <matplotlib.axis.XTick at 0x7f8eb4a4c250>,\n",
        "  <matplotlib.axis.XTick at 0x7f8eb4a49e10>,\n",
        "  <matplotlib.axis.XTick at 0x7f8eb4a47e90>,\n",
        "  <matplotlib.axis.XTick at 0x7f8eb4a45dd0>,\n",
        "  <matplotlib.axis.XTick at 0x7f8eb4a43d10>,\n",
        "  <matplotlib.axis.XTick at 0x7f8eb4bf3690>],\n",
        " <a list of 14 Text xticklabel objects>)"
       ]
      },
      {
       "output_type": "stream",
       "stream": "stderr",
       "text": [
        "/usr/lib/pymodules/python2.7/matplotlib/font_manager.py:1236: UserWarning: findfont: Font family ['normal'] not found. Falling back to Bitstream Vera Sans\n",
        "  (prop.get_family(), self.defaultFamily[fontext]))\n",
        "/usr/lib/pymodules/python2.7/matplotlib/font_manager.py:1246: UserWarning: findfont: Could not match :family=Bitstream Vera Sans:style=normal:variant=normal:weight=normal:stretch=normal:size=24.0. Returning /usr/share/matplotlib/mpl-data/fonts/ttf/cmb10.ttf\n",
        "  UserWarning)\n"
       ]
      },
      {
       "metadata": {},
       "output_type": "display_data",
       "png": "[encoded data removed]",
       "text": [
        "<matplotlib.figure.Figure at 0x7f8eb4817090>"
       ]
      }
     ],
     "prompt_number": 10
    },
    {
     "cell_type": "code",
     "collapsed": false,
     "input": [
      "np.arange(0.75, 15.75)"
     ],
     "language": "python",
     "metadata": {},
     "outputs": [
      {
       "metadata": {},
       "output_type": "pyout",
       "prompt_number": 89,
       "text": [
        "array([  0.75,   1.75,   2.75,   3.75,   4.75,   5.75,   6.75,   7.75,\n",
        "         8.75,   9.75,  10.75,  11.75,  12.75,  13.75,  14.75])"
       ]
      }
     ],
     "prompt_number": 89
    },
    {
     "cell_type": "code",
     "collapsed": false,
     "input": [
      "#get infrequent user data only (\n",
      "minQueries = 1\n",
      "maxQueries = 5\n",
      "UserQueryCount = df['executed_by_id'].value_counts()\n",
      "UserQueryCount = UserQueryCount[UserQueryCount >= minQueries]\n",
      "UserQueryCount = UserQueryCount[UserQueryCount < maxQueries]\n",
      "infrequentUsers = UserQueryCount.index.values\n",
      "def isinfrequentUser(userid):\n",
      "    if userid in infrequentUsers:\n",
      "        return True\n",
      "    else:\n",
      "        return False\n",
      "\n",
      "df['isInfrequent'] = df['executed_by_id'].apply(isinfrequentUser)\n"
     ],
     "language": "python",
     "metadata": {},
     "outputs": [],
     "prompt_number": 11
    },
    {
     "cell_type": "code",
     "collapsed": false,
     "input": [
      "#get intermediate user data only (\n",
      "minQueries = 50\n",
      "maxQueries = 1000\n",
      "UserQueryCount = df['executed_by_id'].value_counts()\n",
      "UserQueryCount = UserQueryCount[UserQueryCount >= minQueries]\n",
      "UserQueryCount = UserQueryCount[UserQueryCount < maxQueries]\n",
      "intermediateUsers = UserQueryCount.index.values\n",
      "def isintermediateUser(userid):\n",
      "    if userid in intermediateUsers:\n",
      "        return True\n",
      "    else:\n",
      "        return False\n",
      "\n",
      "df['isIntermediate'] = df['executed_by_id'].apply(isintermediateUser)\n"
     ],
     "language": "python",
     "metadata": {},
     "outputs": [],
     "prompt_number": 12
    },
    {
     "cell_type": "code",
     "collapsed": false,
     "input": [
      "#get expert user data only (\n",
      "minQueries = 1000\n",
      "maxQueries = 100000000\n",
      "UserQueryCount = df['executed_by_id'].value_counts()\n",
      "UserQueryCount = UserQueryCount[UserQueryCount >= minQueries]\n",
      "UserQueryCount = UserQueryCount[UserQueryCount < maxQueries]\n",
      "expertUsers = UserQueryCount.index.values\n",
      "def isexpertUser(userid):\n",
      "    if userid in expertUsers:\n",
      "        return True\n",
      "    else:\n",
      "        return False\n",
      "\n",
      "df['isExpert'] = df['executed_by_id'].apply(isexpertUser)"
     ],
     "language": "python",
     "metadata": {},
     "outputs": [],
     "prompt_number": 13
    },
    {
     "cell_type": "code",
     "collapsed": false,
     "input": [
      "userList = df['executed_by_id'].unique()\n",
      "\n",
      "frac_Tutorial = {}\n",
      "num_Tutorial = {}\n",
      "for user in userList:\n",
      "    userData = df[df['executed_by_id'] == user]\n",
      "    if len(userData)>0:\n",
      "        frac_Tutorial[user] = float(len(userData[userData['public']==True]))/len(userData)\n",
      "        num_Tutorial[user] = len(userData[userData['public']==True])\n",
      "    else:\n",
      "        frac_Tutorial[user] = None \n",
      "        num_Tutorial[user] = None "
     ],
     "language": "python",
     "metadata": {},
     "outputs": [],
     "prompt_number": 14
    },
    {
     "cell_type": "code",
     "collapsed": false,
     "input": [
      "df['tutorialFrac'] = df['executed_by_id'].apply(lambda x: frac_Tutorial[x])\n",
      "df['tutorialCount'] = df['executed_by_id'].apply(lambda x: num_Tutorial[x])"
     ],
     "language": "python",
     "metadata": {},
     "outputs": [],
     "prompt_number": 15
    },
    {
     "cell_type": "code",
     "collapsed": false,
     "input": [
      "PositiveSample = df[df['isExpert']==True]\n",
      "PositiveSample = PositiveSample[PositiveSample['public']==False]\n",
      "#PositiveSample = PositiveSample[PositiveSample['tutorialCount']<=50]\n",
      "PositiveSample = PositiveSample[PositiveSample['createdT']>=dt.datetime(2014, 9, 1)]\n",
      "print str(len(PositiveSample)) + ' expert queries'\n",
      "print str(len(PositiveSample['executed_by_id'].unique())) + ' expert users'"
     ],
     "language": "python",
     "metadata": {},
     "outputs": [
      {
       "output_type": "stream",
       "stream": "stdout",
       "text": [
        "28641 expert queries\n",
        "23 expert users\n"
       ]
      }
     ],
     "prompt_number": 22
    },
    {
     "cell_type": "code",
     "collapsed": false,
     "input": [
      "NegativeSample = df[df['isIntermediate']==True]\n",
      "NegativeSample = NegativeSample[NegativeSample['tutorialCount']>50]  #must have queried tutorial 10% of time\n",
      "NegativeSample = NegativeSample[NegativeSample['public']==False]  #no tutorial queries in training set\n",
      "print str(len(NegativeSample)) + ' novice queries'\n",
      "print str(len(NegativeSample['executed_by_id'].unique())) + ' novice users'"
     ],
     "language": "python",
     "metadata": {},
     "outputs": [
      {
       "output_type": "stream",
       "stream": "stdout",
       "text": [
        "2948 novice queries\n",
        "25 novice users\n"
       ]
      }
     ],
     "prompt_number": 23
    },
    {
     "cell_type": "code",
     "collapsed": false,
     "input": [],
     "language": "python",
     "metadata": {},
     "outputs": [],
     "prompt_number": 284
    },
    {
     "cell_type": "code",
     "collapsed": false,
     "input": [
      "NegativeSample.to_csv('neg_sample2_5pctTut_50minCut.csv')\n",
      "PositiveSample.to_csv('pos_sample2_SeptCut_1000minCut.csv')"
     ],
     "language": "python",
     "metadata": {},
     "outputs": [],
     "prompt_number": 122
    },
    {
     "cell_type": "code",
     "collapsed": false,
     "input": [
      "import pandas as pd\n",
      "from matplotlib import pyplot as plt\n",
      "import numpy as np\n",
      "import matplotlib\n",
      "\n",
      "font = {'family' : 'normal',\n",
      "        'size'   : 24}\n",
      "\n",
      "matplotlib.rc('font', **font)\n",
      "\n",
      "pd.set_option('display.max_rows', 10)\n",
      "pd.set_option('display.max_columns', 8)\n",
      "\n",
      "%matplotlib inline\n",
      "\n",
      "NegativeSample = pd.read_csv('neg_sample.csv')\n",
      "PositiveSample = pd.read_csv('pos_sample.csv')"
     ],
     "language": "python",
     "metadata": {},
     "outputs": [],
     "prompt_number": 20
    },
    {
     "cell_type": "code",
     "collapsed": false,
     "input": [
      "NegativeSample['y'] = 0\n",
      "PositiveSample['y'] = 1"
     ],
     "language": "python",
     "metadata": {},
     "outputs": [],
     "prompt_number": 123
    },
    {
     "cell_type": "code",
     "collapsed": false,
     "input": [
      "allData = pd.concat([NegativeSample, PositiveSample])"
     ],
     "language": "python",
     "metadata": {},
     "outputs": [],
     "prompt_number": 124
    },
    {
     "cell_type": "code",
     "collapsed": false,
     "input": [
      "allData.shape"
     ],
     "language": "python",
     "metadata": {},
     "outputs": [
      {
       "metadata": {},
       "output_type": "pyout",
       "prompt_number": 126,
       "text": [
        "(32350, 22)"
       ]
      }
     ],
     "prompt_number": 126
    },
    {
     "cell_type": "code",
     "collapsed": false,
     "input": [
      "#here I put the times into python's datetime\n",
      "\n",
      "import datetime as dt\n",
      "\n",
      "def get_time(Modedt):\n",
      "    try:\n",
      "        year = Modedt[:4]\n",
      "        month = Modedt[5:7]\n",
      "        day  = Modedt[8:10]\n",
      "        hour  = Modedt[11:13]\n",
      "        minute  = Modedt[14:16]\n",
      "        sec  = Modedt[17:19]\n",
      "        micsec  = Modedt[20:23]\n",
      "        return dt.datetime(int(year), int(month), int(day), int(hour), int(minute), int(sec), int(micsec)*1000)\n",
      "    except:\n",
      "        print Modedt\n",
      "        return float('nan')\n",
      "    \n",
      "print get_time(allData['created_at'].iloc[0])\n",
      "\n",
      "#sometimes Completed_at = nan \n",
      "allData['createdT'] = allData['created_at'].apply(get_time)\n",
      "allData['completedT'] = allData['completed_at'].apply(get_time)\n",
      "allData['deltaTime'] = (allData['completedT']-allData['createdT'])"
     ],
     "language": "python",
     "metadata": {},
     "outputs": [
      {
       "output_type": "stream",
       "stream": "stdout",
       "text": [
        "2014-03-05 08:10:22.319000\n"
       ]
      }
     ],
     "prompt_number": 125
    },
    {
     "cell_type": "code",
     "collapsed": false,
     "input": [
      "#Count each keyword in each query\n",
      "import re\n",
      "\n",
      "sqlKeywords = pd.read_csv('keywords.txt').dropna()\n",
      "\n",
      "for keyword in sqlKeywords.values:\n",
      "    \n",
      "    keyToSearch = keyword[0].lower()\n",
      "    #print keyToSearch\n",
      "    def getCount(SQLquery):\n",
      "        queryParse = re.findall(r\"[\\w']+|[.,!?'\\\";:)(]\", SQLquery.lower())\n",
      "        return queryParse.count(keyToSearch)\n",
      "    \n",
      "    allData[keyToSearch] = allData['raw_source'].apply(getCount)"
     ],
     "language": "python",
     "metadata": {},
     "outputs": [],
     "prompt_number": 24
    },
    {
     "cell_type": "code",
     "collapsed": false,
     "input": [
      "allData['white_space_frac'] = allData['raw_source'].apply(lambda x: float(x.count(' '))/len(x))\n",
      "allData['line_break_density'] = allData['raw_source'].apply(lambda x: float(x.count('\\n'))/len(x))\n",
      "allData['length'] = allData['raw_source'].apply(len)"
     ],
     "language": "python",
     "metadata": {},
     "outputs": [],
     "prompt_number": 25
    },
    {
     "cell_type": "code",
     "collapsed": false,
     "input": [
      "%run errorClassifier.py\n",
      "allData['Error Class'] = allData['error_message'].apply(identErr2)"
     ],
     "language": "python",
     "metadata": {},
     "outputs": [
      {
       "output_type": "stream",
       "stream": "stdout",
       "text": [
        "rare errors\n",
        "no error\n"
       ]
      }
     ],
     "prompt_number": 26
    },
    {
     "cell_type": "code",
     "collapsed": false,
     "input": [
      "uniqueErrors = allData['Error Class'].unique()\n",
      "\n",
      "for error in uniqueErrors:\n",
      "    \n",
      "    #print keyToSearch\n",
      "    def isError(thisError):\n",
      "        if thisError == error:\n",
      "            return 1\n",
      "        else:\n",
      "            return 0\n",
      "    \n",
      "    allData[error] = allData['Error Class'].apply(isError)"
     ],
     "language": "python",
     "metadata": {},
     "outputs": [],
     "prompt_number": 28
    },
    {
     "cell_type": "code",
     "collapsed": false,
     "input": [
      "allData.to_csv('allData.csv')"
     ],
     "language": "python",
     "metadata": {},
     "outputs": [],
     "prompt_number": 30
    },
    {
     "cell_type": "code",
     "collapsed": false,
     "input": [
      "allData['raw_source']"
     ],
     "language": "python",
     "metadata": {},
     "outputs": [
      {
       "metadata": {},
       "output_type": "pyout",
       "prompt_number": 50,
       "text": [
        "0    SELECT name,\\n       username,\\n       email,\\...\n",
        "1    SELECT DATE_TRUNC('day',activated_at) AS day,\\...\n",
        "2    SELECT u.domain,\\n       u.total_users,\\n     ...\n",
        "...\n",
        "18766    SELECT  sub5.*\\n        POSITION ('>' IN sub5....\n",
        "18767    SELECT  sub2.\"selection\", \\n        LEFT (sub2...\n",
        "18768    SELECT  sub5.*,\\n        POSITION ('>' IN sub5...\n",
        "Name: raw_source, Length: 22040, dtype: object"
       ]
      }
     ],
     "prompt_number": 50
    },
    {
     "cell_type": "code",
     "collapsed": false,
     "input": [
      "len(allData['raw_source'])"
     ],
     "language": "python",
     "metadata": {},
     "outputs": [
      {
       "metadata": {},
       "output_type": "pyout",
       "prompt_number": 52,
       "text": [
        "22040"
       ]
      }
     ],
     "prompt_number": 52
    },
    {
     "cell_type": "code",
     "collapsed": false,
     "input": [
      "y = allData['y']\n",
      "X = allData.drop(['id', 'error_message', 'error_detail', 'executed_by_id',\n",
      "       'report_id', 'created_at', 'completed_at', 'parameters',\n",
      "       'data_source_id', 'raw_source', 'adapter', 'public', 'createdT',\n",
      "       'completedT', 'deltaTime', 'Error Class', 'y'], axis = 1)"
     ],
     "language": "python",
     "metadata": {},
     "outputs": [],
     "prompt_number": 36
    },
    {
     "cell_type": "code",
     "collapsed": false,
     "input": [],
     "language": "python",
     "metadata": {},
     "outputs": []
    },
    {
     "cell_type": "code",
     "collapsed": false,
     "input": [
      "allData.drop(['id', 'error_message', 'error_detail', 'executed_by_id',\n",
      "       'report_id', 'created_at', 'completed_at', 'parameters',\n",
      "       'data_source_id', 'raw_source', 'adapter', 'public', 'createdT',\n",
      "       'completedT', 'deltaTime', 'isInfrequent', 'isIntermediate',\n",
      "       'isExpert', 'tutorialFrac', 'adapter', 'Unnamed: 0', 'Unnamed: 0.1'], axis=1)"
     ],
     "language": "python",
     "metadata": {},
     "outputs": [
      {
       "html": [
        "<div style=\"max-height:1000px;max-width:1500px;overflow:auto;\">\n",
        "<table border=\"1\" class=\"dataframe\">\n",
        "  <thead>\n",
        "    <tr style=\"text-align: right;\">\n",
        "      <th></th>\n",
        "      <th>y</th>\n",
        "      <th>except</th>\n",
        "      <th>percent</th>\n",
        "      <th>all</th>\n",
        "      <th>exec</th>\n",
        "      <th>plan</th>\n",
        "      <th>alter</th>\n",
        "      <th>execute</th>\n",
        "      <th></th>\n",
        "    </tr>\n",
        "  </thead>\n",
        "  <tbody>\n",
        "    <tr>\n",
        "      <th>0</th>\n",
        "      <td> 0</td>\n",
        "      <td> 0</td>\n",
        "      <td> 0</td>\n",
        "      <td> 0</td>\n",
        "      <td> 0</td>\n",
        "      <td> 0</td>\n",
        "      <td> 0</td>\n",
        "      <td> 0</td>\n",
        "      <td>...</td>\n",
        "    </tr>\n",
        "    <tr>\n",
        "      <th>1</th>\n",
        "      <td> 0</td>\n",
        "      <td> 0</td>\n",
        "      <td> 0</td>\n",
        "      <td> 0</td>\n",
        "      <td> 0</td>\n",
        "      <td> 0</td>\n",
        "      <td> 0</td>\n",
        "      <td> 0</td>\n",
        "      <td>...</td>\n",
        "    </tr>\n",
        "    <tr>\n",
        "      <th>2</th>\n",
        "      <td> 0</td>\n",
        "      <td> 0</td>\n",
        "      <td> 0</td>\n",
        "      <td> 0</td>\n",
        "      <td> 0</td>\n",
        "      <td> 0</td>\n",
        "      <td> 0</td>\n",
        "      <td> 0</td>\n",
        "      <td>...</td>\n",
        "    </tr>\n",
        "    <tr>\n",
        "      <th>3</th>\n",
        "      <td> 0</td>\n",
        "      <td> 0</td>\n",
        "      <td> 0</td>\n",
        "      <td> 0</td>\n",
        "      <td> 0</td>\n",
        "      <td> 0</td>\n",
        "      <td> 0</td>\n",
        "      <td> 0</td>\n",
        "      <td>...</td>\n",
        "    </tr>\n",
        "    <tr>\n",
        "      <th>4</th>\n",
        "      <td> 0</td>\n",
        "      <td> 0</td>\n",
        "      <td> 0</td>\n",
        "      <td> 0</td>\n",
        "      <td> 0</td>\n",
        "      <td> 0</td>\n",
        "      <td> 0</td>\n",
        "      <td> 0</td>\n",
        "      <td>...</td>\n",
        "    </tr>\n",
        "    <tr>\n",
        "      <th>5</th>\n",
        "      <td> 0</td>\n",
        "      <td> 0</td>\n",
        "      <td> 0</td>\n",
        "      <td> 0</td>\n",
        "      <td> 0</td>\n",
        "      <td> 0</td>\n",
        "      <td> 0</td>\n",
        "      <td> 0</td>\n",
        "      <td>...</td>\n",
        "    </tr>\n",
        "    <tr>\n",
        "      <th>6</th>\n",
        "      <td> 0</td>\n",
        "      <td> 0</td>\n",
        "      <td> 0</td>\n",
        "      <td> 0</td>\n",
        "      <td> 0</td>\n",
        "      <td> 0</td>\n",
        "      <td> 0</td>\n",
        "      <td> 0</td>\n",
        "      <td>...</td>\n",
        "    </tr>\n",
        "    <tr>\n",
        "      <th>7</th>\n",
        "      <td> 0</td>\n",
        "      <td> 0</td>\n",
        "      <td> 0</td>\n",
        "      <td> 0</td>\n",
        "      <td> 0</td>\n",
        "      <td> 0</td>\n",
        "      <td> 0</td>\n",
        "      <td> 0</td>\n",
        "      <td>...</td>\n",
        "    </tr>\n",
        "    <tr>\n",
        "      <th>8</th>\n",
        "      <td> 0</td>\n",
        "      <td> 0</td>\n",
        "      <td> 0</td>\n",
        "      <td> 0</td>\n",
        "      <td> 0</td>\n",
        "      <td> 0</td>\n",
        "      <td> 0</td>\n",
        "      <td> 0</td>\n",
        "      <td>...</td>\n",
        "    </tr>\n",
        "    <tr>\n",
        "      <th>9</th>\n",
        "      <td> 0</td>\n",
        "      <td> 0</td>\n",
        "      <td> 0</td>\n",
        "      <td> 0</td>\n",
        "      <td> 0</td>\n",
        "      <td> 0</td>\n",
        "      <td> 0</td>\n",
        "      <td> 0</td>\n",
        "      <td>...</td>\n",
        "    </tr>\n",
        "    <tr>\n",
        "      <th></th>\n",
        "      <td>...</td>\n",
        "      <td>...</td>\n",
        "      <td>...</td>\n",
        "      <td>...</td>\n",
        "      <td>...</td>\n",
        "      <td>...</td>\n",
        "      <td>...</td>\n",
        "      <td>...</td>\n",
        "    </tr>\n",
        "  </tbody>\n",
        "</table>\n",
        "<p>22040 rows \u00d7 175 columns</p>\n",
        "</div>"
       ],
       "metadata": {},
       "output_type": "pyout",
       "prompt_number": 18,
       "text": [
        "   y  except  percent  all  exec  plan  alter  execute    \n",
        "0  0       0        0    0     0     0      0        0 ...\n",
        "1  0       0        0    0     0     0      0        0 ...\n",
        "2  0       0        0    0     0     0      0        0 ...\n",
        "3  0       0        0    0     0     0      0        0 ...\n",
        "4  0       0        0    0     0     0      0        0 ...\n",
        "5  0       0        0    0     0     0      0        0 ...\n",
        "6  0       0        0    0     0     0      0        0 ...\n",
        "7  0       0        0    0     0     0      0        0 ...\n",
        "8  0       0        0    0     0     0      0        0 ...\n",
        "9  0       0        0    0     0     0      0        0 ...\n",
        "  ..     ...      ...  ...   ...   ...    ...      ...    \n",
        "\n",
        "[22040 rows x 175 columns]"
       ]
      }
     ],
     "prompt_number": 18
    },
    {
     "cell_type": "code",
     "collapsed": false,
     "input": [],
     "language": "python",
     "metadata": {},
     "outputs": [
      {
       "metadata": {},
       "output_type": "pyout",
       "prompt_number": 19,
       "text": [
        "0    1\n",
        "1    1\n",
        "2    3\n",
        "...\n",
        "18766    16\n",
        "18767    13\n",
        "18768    16\n",
        "Name: select, Length: 22040, dtype: int64"
       ]
      }
     ],
     "prompt_number": 19
    },
    {
     "cell_type": "code",
     "collapsed": false,
     "input": [
      "allData.columns"
     ],
     "language": "python",
     "metadata": {},
     "outputs": [
      {
       "metadata": {},
       "output_type": "pyout",
       "prompt_number": 17,
       "text": [
        "Index([u'Unnamed: 0', u'Unnamed: 0.1', u'id', u'error_message', u'error_detail', u'executed_by_id', u'report_id', u'created_at', u'completed_at', u'parameters', u'data_source_id', u'raw_source', u'adapter', u'public', u'createdT', u'completedT', u'deltaTime', u'isInfrequent', u'isIntermediate', u'isExpert', u'tutorialFrac', u'y', u'except', u'percent', u'all', u'exec', u'plan', u'alter', u'execute', u'precision', u'and', u'exists', u'primary', u'any', u'exit', u'print', u'as', u'fetch', u'proc', u'asc', u'file', u'procedure', u'authorization', u'fillfactor', u'backup', u'for', u'raiserror', u'begin', u'foreign', u'read', u'between', u'freetext', u'readtext', u'break', u'freetexttable', u'reconfigure', u'browse', u'from', u'references', u'bulk', u'full', u'replication', u'by', u'function', u'restore', u'cascade', u'goto', u'restrict', u'case', u'grant', u'return', u'check', u'group', u'revoke', u'checkpoint', u'having', u'right', u'close', u'holdlock', u'rollback', u'clustered', u'identity', u'rowcount', u'coalesce', u'identity_insert', u'rowguidcol', u'collate', u'identitycol', u'rule', u'column', u'if', u'save', u'commit', u'in', u'schema', u'compute', u'index', u'select', u'constraint', u'inner', ...], dtype='object')"
       ]
      }
     ],
     "prompt_number": 17
    },
    {
     "cell_type": "code",
     "collapsed": false,
     "input": [
      "print (allData.sum()).index[allData.sum()==0].values\n",
      "\n",
      "allData = allData.drop((allData.sum()).index[allData.sum()==0].values, axis=1)"
     ],
     "language": "python",
     "metadata": {},
     "outputs": [
      {
       "ename": "KeyboardInterrupt",
       "evalue": "",
       "output_type": "pyerr",
       "traceback": [
        "\u001b[0;31m---------------------------------------------------------------------------\u001b[0m\n\u001b[0;31mKeyboardInterrupt\u001b[0m                         Traceback (most recent call last)",
        "\u001b[0;32m<ipython-input-14-e07dad006525>\u001b[0m in \u001b[0;36m<module>\u001b[0;34m()\u001b[0m\n\u001b[1;32m      1\u001b[0m \u001b[0;32mprint\u001b[0m \u001b[0;34m(\u001b[0m\u001b[0mallData\u001b[0m\u001b[0;34m.\u001b[0m\u001b[0msum\u001b[0m\u001b[0;34m(\u001b[0m\u001b[0;34m)\u001b[0m\u001b[0;34m)\u001b[0m\u001b[0;34m.\u001b[0m\u001b[0mindex\u001b[0m\u001b[0;34m[\u001b[0m\u001b[0mallData\u001b[0m\u001b[0;34m.\u001b[0m\u001b[0msum\u001b[0m\u001b[0;34m(\u001b[0m\u001b[0;34m)\u001b[0m\u001b[0;34m==\u001b[0m\u001b[0;36m0\u001b[0m\u001b[0;34m]\u001b[0m\u001b[0;34m.\u001b[0m\u001b[0mvalues\u001b[0m\u001b[0;34m\u001b[0m\u001b[0m\n\u001b[1;32m      2\u001b[0m \u001b[0;34m\u001b[0m\u001b[0m\n\u001b[0;32m----> 3\u001b[0;31m \u001b[0mallData\u001b[0m \u001b[0;34m=\u001b[0m \u001b[0mallData\u001b[0m\u001b[0;34m.\u001b[0m\u001b[0mdrop\u001b[0m\u001b[0;34m(\u001b[0m\u001b[0;34m(\u001b[0m\u001b[0mallData\u001b[0m\u001b[0;34m.\u001b[0m\u001b[0msum\u001b[0m\u001b[0;34m(\u001b[0m\u001b[0;34m)\u001b[0m\u001b[0;34m)\u001b[0m\u001b[0;34m.\u001b[0m\u001b[0mindex\u001b[0m\u001b[0;34m[\u001b[0m\u001b[0mallData\u001b[0m\u001b[0;34m.\u001b[0m\u001b[0msum\u001b[0m\u001b[0;34m(\u001b[0m\u001b[0;34m)\u001b[0m\u001b[0;34m==\u001b[0m\u001b[0;36m0\u001b[0m\u001b[0;34m]\u001b[0m\u001b[0;34m.\u001b[0m\u001b[0mvalues\u001b[0m\u001b[0;34m,\u001b[0m \u001b[0maxis\u001b[0m\u001b[0;34m=\u001b[0m\u001b[0;36m1\u001b[0m\u001b[0;34m)\u001b[0m\u001b[0;34m\u001b[0m\u001b[0m\n\u001b[0m",
        "\u001b[0;32m/usr/lib/python2.7/dist-packages/pandas/core/generic.pyc\u001b[0m in \u001b[0;36mstat_func\u001b[0;34m(self, axis, skipna, level, numeric_only, **kwargs)\u001b[0m\n\u001b[1;32m   3488\u001b[0m                                               skipna=skipna)\n\u001b[1;32m   3489\u001b[0m                 return self._reduce(f, axis=axis,\n\u001b[0;32m-> 3490\u001b[0;31m                                     skipna=skipna, numeric_only=numeric_only)\n\u001b[0m\u001b[1;32m   3491\u001b[0m             \u001b[0mstat_func\u001b[0m\u001b[0;34m.\u001b[0m\u001b[0m__name__\u001b[0m \u001b[0;34m=\u001b[0m \u001b[0mname\u001b[0m\u001b[0;34m\u001b[0m\u001b[0m\n\u001b[1;32m   3492\u001b[0m             \u001b[0;32mreturn\u001b[0m \u001b[0mstat_func\u001b[0m\u001b[0;34m\u001b[0m\u001b[0m\n",
        "\u001b[0;32m/usr/lib/python2.7/dist-packages/pandas/core/frame.pyc\u001b[0m in \u001b[0;36m_reduce\u001b[0;34m(self, op, axis, skipna, numeric_only, filter_type, **kwds)\u001b[0m\n\u001b[1;32m   3970\u001b[0m             \u001b[0;32mtry\u001b[0m\u001b[0;34m:\u001b[0m\u001b[0;34m\u001b[0m\u001b[0m\n\u001b[1;32m   3971\u001b[0m                 \u001b[0mvalues\u001b[0m \u001b[0;34m=\u001b[0m \u001b[0mself\u001b[0m\u001b[0;34m.\u001b[0m\u001b[0mvalues\u001b[0m\u001b[0;34m\u001b[0m\u001b[0m\n\u001b[0;32m-> 3972\u001b[0;31m                 \u001b[0mresult\u001b[0m \u001b[0;34m=\u001b[0m \u001b[0mf\u001b[0m\u001b[0;34m(\u001b[0m\u001b[0mvalues\u001b[0m\u001b[0;34m)\u001b[0m\u001b[0;34m\u001b[0m\u001b[0m\n\u001b[0m\u001b[1;32m   3973\u001b[0m             \u001b[0;32mexcept\u001b[0m \u001b[0mException\u001b[0m \u001b[0;32mas\u001b[0m \u001b[0me\u001b[0m\u001b[0;34m:\u001b[0m\u001b[0;34m\u001b[0m\u001b[0m\n\u001b[1;32m   3974\u001b[0m \u001b[0;34m\u001b[0m\u001b[0m\n",
        "\u001b[0;31mKeyboardInterrupt\u001b[0m: "
       ]
      },
      {
       "output_type": "stream",
       "stream": "stdout",
       "text": [
        "['public' 'isInfrequent']\n"
       ]
      }
     ],
     "prompt_number": 14
    },
    {
     "cell_type": "code",
     "collapsed": false,
     "input": [
      "allData['id']"
     ],
     "language": "python",
     "metadata": {},
     "outputs": [
      {
       "metadata": {},
       "output_type": "pyout",
       "prompt_number": 20,
       "text": [
        "0     5493\n",
        "1     3289\n",
        "2    11862\n",
        "...\n",
        "18766    425735\n",
        "18767    425708\n",
        "18768    425739\n",
        "Name: id, Length: 22040, dtype: int64"
       ]
      }
     ],
     "prompt_number": 20
    },
    {
     "cell_type": "code",
     "collapsed": false,
     "input": [
      "data = data.set_index('id')"
     ],
     "language": "python",
     "metadata": {},
     "outputs": [],
     "prompt_number": 33
    },
    {
     "cell_type": "code",
     "collapsed": false,
     "input": [
      "relIds = allData['id'].values"
     ],
     "language": "python",
     "metadata": {},
     "outputs": [],
     "prompt_number": 46
    },
    {
     "cell_type": "code",
     "collapsed": false,
     "input": [
      "data.head()"
     ],
     "language": "python",
     "metadata": {},
     "outputs": [
      {
       "html": [
        "<div style=\"max-height:1000px;max-width:1500px;overflow:auto;\">\n",
        "<table border=\"1\" class=\"dataframe\">\n",
        "  <thead>\n",
        "    <tr style=\"text-align: right;\">\n",
        "      <th></th>\n",
        "      <th>id</th>\n",
        "      <th>error_message</th>\n",
        "      <th>error_detail</th>\n",
        "      <th>executed_by_id</th>\n",
        "      <th>report_id</th>\n",
        "      <th>created_at</th>\n",
        "      <th>completed_at</th>\n",
        "      <th>parameters</th>\n",
        "      <th></th>\n",
        "    </tr>\n",
        "  </thead>\n",
        "  <tbody>\n",
        "    <tr>\n",
        "      <th>0</th>\n",
        "      <td>  3</td>\n",
        "      <td>                                               NaN</td>\n",
        "      <td>                                               NaN</td>\n",
        "      <td> 3</td>\n",
        "      <td> 1</td>\n",
        "      <td> 2013-11-14T02:24:06.940Z</td>\n",
        "      <td> 2013-11-14T02:24:08.939Z</td>\n",
        "      <td> {\"limit\":100}</td>\n",
        "      <td>...</td>\n",
        "    </tr>\n",
        "    <tr>\n",
        "      <th>1</th>\n",
        "      <td>  4</td>\n",
        "      <td> ERROR:  invalid input syntax for type boolean:...</td>\n",
        "      <td> /var/www/webapp/releases/20131114020443/lib/wa...</td>\n",
        "      <td> 3</td>\n",
        "      <td> 1</td>\n",
        "      <td> 2013-11-14T02:24:29.026Z</td>\n",
        "      <td> 2013-11-14T02:24:31.115Z</td>\n",
        "      <td> {\"limit\":100}</td>\n",
        "      <td>...</td>\n",
        "    </tr>\n",
        "    <tr>\n",
        "      <th>2</th>\n",
        "      <td>  6</td>\n",
        "      <td>                                               NaN</td>\n",
        "      <td>                                               NaN</td>\n",
        "      <td> 3</td>\n",
        "      <td> 1</td>\n",
        "      <td> 2013-11-14T02:24:52.295Z</td>\n",
        "      <td> 2013-11-14T02:24:54.200Z</td>\n",
        "      <td> {\"limit\":100}</td>\n",
        "      <td>...</td>\n",
        "    </tr>\n",
        "    <tr>\n",
        "      <th>3</th>\n",
        "      <td> 67</td>\n",
        "      <td> ERROR:  relation \"insurance_coverage_trim\" doe...</td>\n",
        "      <td> /var/www/webapp/releases/20131115014542/lib/wa...</td>\n",
        "      <td> 3</td>\n",
        "      <td> 1</td>\n",
        "      <td> 2013-11-15T02:31:45.786Z</td>\n",
        "      <td> 2013-11-15T02:31:48.348Z</td>\n",
        "      <td>            {}</td>\n",
        "      <td>...</td>\n",
        "    </tr>\n",
        "    <tr>\n",
        "      <th>4</th>\n",
        "      <td> 68</td>\n",
        "      <td> ERROR:  relation \"insurance_coverage_trim\" doe...</td>\n",
        "      <td> /var/www/webapp/releases/20131115014542/lib/wa...</td>\n",
        "      <td> 3</td>\n",
        "      <td> 1</td>\n",
        "      <td> 2013-11-15T02:32:27.879Z</td>\n",
        "      <td> 2013-11-15T02:32:29.878Z</td>\n",
        "      <td>            {}</td>\n",
        "      <td>...</td>\n",
        "    </tr>\n",
        "  </tbody>\n",
        "</table>\n",
        "<p>5 rows \u00d7 12 columns</p>\n",
        "</div>"
       ],
       "metadata": {},
       "output_type": "pyout",
       "prompt_number": 43,
       "text": [
        "   id                                      error_message  \\\n",
        "0   3                                                NaN   \n",
        "1   4  ERROR:  invalid input syntax for type boolean:...   \n",
        "2   6                                                NaN   \n",
        "3  67  ERROR:  relation \"insurance_coverage_trim\" doe...   \n",
        "4  68  ERROR:  relation \"insurance_coverage_trim\" doe...   \n",
        "\n",
        "                                        error_detail  executed_by_id  \\\n",
        "0                                                NaN               3   \n",
        "1  /var/www/webapp/releases/20131114020443/lib/wa...               3   \n",
        "2                                                NaN               3   \n",
        "3  /var/www/webapp/releases/20131115014542/lib/wa...               3   \n",
        "4  /var/www/webapp/releases/20131115014542/lib/wa...               3   \n",
        "\n",
        "   report_id                created_at              completed_at  \\\n",
        "0          1  2013-11-14T02:24:06.940Z  2013-11-14T02:24:08.939Z   \n",
        "1          1  2013-11-14T02:24:29.026Z  2013-11-14T02:24:31.115Z   \n",
        "2          1  2013-11-14T02:24:52.295Z  2013-11-14T02:24:54.200Z   \n",
        "3          1  2013-11-15T02:31:45.786Z  2013-11-15T02:31:48.348Z   \n",
        "4          1  2013-11-15T02:32:27.879Z  2013-11-15T02:32:29.878Z   \n",
        "\n",
        "      parameters      \n",
        "0  {\"limit\":100} ...  \n",
        "1  {\"limit\":100} ...  \n",
        "2  {\"limit\":100} ...  \n",
        "3             {} ...  \n",
        "4             {} ...  \n",
        "\n",
        "[5 rows x 12 columns]"
       ]
      }
     ],
     "prompt_number": 43
    },
    {
     "cell_type": "code",
     "collapsed": false,
     "input": [
      "newdata=data[data[\"id\"].apply(lambda x: x in relIds)]"
     ],
     "language": "python",
     "metadata": {},
     "outputs": [],
     "prompt_number": 60
    },
    {
     "cell_type": "code",
     "collapsed": false,
     "input": [
      "def gety(theID):\n",
      "    if theID in NegativeSample['id'].values:\n",
      "        return 0\n",
      "    else:\n",
      "        return 1\n",
      "\n",
      "newdata['y'] = newdata[\"id\"].apply(gety)"
     ],
     "language": "python",
     "metadata": {},
     "outputs": [
      {
       "output_type": "stream",
       "stream": "stderr",
       "text": [
        "-c:7: SettingWithCopyWarning: A value is trying to be set on a copy of a slice from a DataFrame.\n",
        "Try using .loc[row_index,col_indexer] = value instead\n"
       ]
      }
     ],
     "prompt_number": 62
    },
    {
     "cell_type": "code",
     "collapsed": false,
     "input": [
      "newdata['y']"
     ],
     "language": "python",
     "metadata": {},
     "outputs": [
      {
       "metadata": {},
       "output_type": "pyout",
       "prompt_number": 63,
       "text": [
        "1455    0\n",
        "1710    0\n",
        "2894    0\n",
        "...\n",
        "370501    1\n",
        "370502    1\n",
        "370522    1\n",
        "Name: y, Length: 22040, dtype: int64"
       ]
      }
     ],
     "prompt_number": 63
    },
    {
     "cell_type": "code",
     "collapsed": false,
     "input": [
      "#Count each keyword in each query\n",
      "import re\n",
      "\n",
      "sqlKeywords = pd.read_csv('keywords.txt')\n",
      "\n",
      "for keyword in sqlKeywords.dropna().values.tolist():\n",
      "    \n",
      "    keyToSearch = keyword[0].lower()\n",
      "    #print keyToSearch\n",
      "    def getCount(SQLquery):\n",
      "        queryParse = re.findall(r\"[\\w']+|[.,!?'\\\";:)(]\", SQLquery.lower())\n",
      "        return queryParse.count(keyToSearch)\n",
      "    \n",
      "    newdata[keyToSearch] = newdata['raw_source'].apply(getCount)"
     ],
     "language": "python",
     "metadata": {},
     "outputs": [],
     "prompt_number": 69
    },
    {
     "cell_type": "code",
     "collapsed": false,
     "input": [
      "newdata['raw_source']"
     ],
     "language": "python",
     "metadata": {},
     "outputs": [
      {
       "metadata": {},
       "output_type": "pyout",
       "prompt_number": 64,
       "text": [
        "1455                  select * from benn.crunchbase_test2\n",
        "1710    select count(1), \\nEXTRACT(month FROM created_...\n",
        "2894    SELECT name,\\n       username,\\n       email,\\...\n",
        "...\n",
        "370501    select distinct(state), count(state)\\nfrom uni...\n",
        "370502    select distinct(state), count(distinct(state))...\n",
        "370522                                select * from reports\n",
        "Name: raw_source, Length: 22040, dtype: object"
       ]
      }
     ],
     "prompt_number": 64
    },
    {
     "cell_type": "code",
     "collapsed": false,
     "input": [
      "%run errorClassifier.py\n",
      "newdata['Error Class'] = newdata['error_message'].apply(identErr2)"
     ],
     "language": "python",
     "metadata": {},
     "outputs": [
      {
       "output_type": "stream",
       "stream": "stdout",
       "text": [
        "rare errors\n",
        "no error\n"
       ]
      }
     ],
     "prompt_number": 70
    },
    {
     "cell_type": "code",
     "collapsed": false,
     "input": [
      "#df = random subset of 1000 of the errors\n",
      "import random\n",
      "rows = random.sample(data.index, 5000)\n",
      "df = newdata.ix[rows]\n",
      "#df"
     ],
     "language": "python",
     "metadata": {},
     "outputs": [],
     "prompt_number": 73
    },
    {
     "cell_type": "code",
     "collapsed": false,
     "input": [
      "uniqueErrors = newdata['Error Class'].unique()\n",
      "\n",
      "for error in uniqueErrors:\n",
      "    \n",
      "    #print keyToSearch\n",
      "    def isError(thisError):\n",
      "        if thisError == error:\n",
      "            return 1\n",
      "        else:\n",
      "            return 0\n",
      "    \n",
      "    newdata[error] = newdata['Error Class'].apply(isError)"
     ],
     "language": "python",
     "metadata": {},
     "outputs": [
      {
       "output_type": "stream",
       "stream": "stderr",
       "text": [
        "-c:16: SettingWithCopyWarning: A value is trying to be set on a copy of a slice from a DataFrame.\n",
        "Try using .loc[row_index,col_indexer] = value instead\n"
       ]
      }
     ],
     "prompt_number": 79
    },
    {
     "cell_type": "code",
     "collapsed": false,
     "input": [
      "uniqueAdapters = newdata['adapter'].unique()\n",
      "\n",
      "for adapt in uniqueAdapters:\n",
      "    \n",
      "    #print keyToSearch\n",
      "    def isadapt(thisAdapt):\n",
      "        if thisAdapt == adapt:\n",
      "            return 1\n",
      "        else:\n",
      "            return 0\n",
      "    \n",
      "    newdata[adapt] = newdata['adapter'].apply(isadapt)"
     ],
     "language": "python",
     "metadata": {},
     "outputs": [
      {
       "output_type": "stream",
       "stream": "stderr",
       "text": [
        "-c:12: SettingWithCopyWarning: A value is trying to be set on a copy of a slice from a DataFrame.\n",
        "Try using .loc[row_index,col_indexer] = value instead\n"
       ]
      }
     ],
     "prompt_number": 90
    },
    {
     "cell_type": "code",
     "collapsed": false,
     "input": [
      "newdata['white_space_frac'] = newdata['raw_source'].apply(lambda x: float(x.count(' '))/len(x))\n",
      "newdata['line_break_density'] = newdata['raw_source'].apply(lambda x: float(x.count('\\n'))/len(x))\n",
      "newdata['length'] = newdata['raw_source'].apply(len)"
     ],
     "language": "python",
     "metadata": {},
     "outputs": [],
     "prompt_number": 100
    },
    {
     "cell_type": "code",
     "collapsed": false,
     "input": [
      "y = newdata['y']\n",
      "X = newdata.drop(['id', 'error_message', 'error_detail', 'executed_by_id',\n",
      "       'report_id', 'created_at', 'completed_at', 'parameters',\n",
      "       'data_source_id', 'raw_source', 'adapter', 'public', 'createdT',\n",
      "       'completedT', 'deltaTime', 'Error Class', 'y'], axis = 1)"
     ],
     "language": "python",
     "metadata": {},
     "outputs": [],
     "prompt_number": 103
    },
    {
     "cell_type": "code",
     "collapsed": false,
     "input": [
      "#df = random subset of 1000 of the errors\n",
      "import random\n",
      "rowstrain = random.sample(X.index, 5000)\n",
      "Xtrain = X.ix[rowstrain]\n",
      "ytrain = y.ix[rowstrain]\n",
      "\n",
      "Xtext = X.ix[rowstrain]\n"
     ],
     "language": "python",
     "metadata": {},
     "outputs": []
    },
    {
     "cell_type": "code",
     "collapsed": false,
     "input": [
      "X.iloc[3].values\n"
     ],
     "language": "python",
     "metadata": {},
     "outputs": [
      {
       "metadata": {},
       "output_type": "pyout",
       "prompt_number": 104,
       "text": [
        "array([  0.00000000e+00,   0.00000000e+00,   0.00000000e+00,\n",
        "         0.00000000e+00,   0.00000000e+00,   0.00000000e+00,\n",
        "         0.00000000e+00,   0.00000000e+00,   0.00000000e+00,\n",
        "         0.00000000e+00,   0.00000000e+00,   0.00000000e+00,\n",
        "         0.00000000e+00,   0.00000000e+00,   2.00000000e+00,\n",
        "         0.00000000e+00,   0.00000000e+00,   0.00000000e+00,\n",
        "         0.00000000e+00,   0.00000000e+00,   0.00000000e+00,\n",
        "         0.00000000e+00,   0.00000000e+00,   0.00000000e+00,\n",
        "         0.00000000e+00,   0.00000000e+00,   0.00000000e+00,\n",
        "         0.00000000e+00,   0.00000000e+00,   0.00000000e+00,\n",
        "         0.00000000e+00,   0.00000000e+00,   0.00000000e+00,\n",
        "         0.00000000e+00,   0.00000000e+00,   1.00000000e+00,\n",
        "         0.00000000e+00,   0.00000000e+00,   0.00000000e+00,\n",
        "         0.00000000e+00,   2.00000000e+00,   0.00000000e+00,\n",
        "         0.00000000e+00,   0.00000000e+00,   0.00000000e+00,\n",
        "         0.00000000e+00,   0.00000000e+00,   0.00000000e+00,\n",
        "         0.00000000e+00,   0.00000000e+00,   1.00000000e+00,\n",
        "         0.00000000e+00,   0.00000000e+00,   0.00000000e+00,\n",
        "         0.00000000e+00,   0.00000000e+00,   0.00000000e+00,\n",
        "         0.00000000e+00,   0.00000000e+00,   0.00000000e+00,\n",
        "         0.00000000e+00,   0.00000000e+00,   0.00000000e+00,\n",
        "         0.00000000e+00,   0.00000000e+00,   0.00000000e+00,\n",
        "         0.00000000e+00,   0.00000000e+00,   0.00000000e+00,\n",
        "         0.00000000e+00,   0.00000000e+00,   0.00000000e+00,\n",
        "         0.00000000e+00,   0.00000000e+00,   0.00000000e+00,\n",
        "         1.00000000e+00,   0.00000000e+00,   0.00000000e+00,\n",
        "         0.00000000e+00,   0.00000000e+00,   0.00000000e+00,\n",
        "         0.00000000e+00,   0.00000000e+00,   0.00000000e+00,\n",
        "         0.00000000e+00,   0.00000000e+00,   0.00000000e+00,\n",
        "         0.00000000e+00,   0.00000000e+00,   0.00000000e+00,\n",
        "         0.00000000e+00,   0.00000000e+00,   0.00000000e+00,\n",
        "         0.00000000e+00,   0.00000000e+00,   0.00000000e+00,\n",
        "         0.00000000e+00,   0.00000000e+00,   0.00000000e+00,\n",
        "         0.00000000e+00,   0.00000000e+00,   0.00000000e+00,\n",
        "         0.00000000e+00,   0.00000000e+00,   0.00000000e+00,\n",
        "         0.00000000e+00,   0.00000000e+00,   0.00000000e+00,\n",
        "         0.00000000e+00,   0.00000000e+00,   0.00000000e+00,\n",
        "         0.00000000e+00,   0.00000000e+00,   0.00000000e+00,\n",
        "         0.00000000e+00,   0.00000000e+00,   0.00000000e+00,\n",
        "         0.00000000e+00,   0.00000000e+00,   0.00000000e+00,\n",
        "         0.00000000e+00,   0.00000000e+00,   0.00000000e+00,\n",
        "         0.00000000e+00,   0.00000000e+00,   0.00000000e+00,\n",
        "         0.00000000e+00,   0.00000000e+00,   0.00000000e+00,\n",
        "         0.00000000e+00,   0.00000000e+00,   0.00000000e+00,\n",
        "         0.00000000e+00,   0.00000000e+00,   0.00000000e+00,\n",
        "         0.00000000e+00,   0.00000000e+00,   0.00000000e+00,\n",
        "         0.00000000e+00,   0.00000000e+00,   0.00000000e+00,\n",
        "         1.00000000e+00,   0.00000000e+00,   0.00000000e+00,\n",
        "         0.00000000e+00,   0.00000000e+00,   0.00000000e+00,\n",
        "         0.00000000e+00,   0.00000000e+00,   0.00000000e+00,\n",
        "         0.00000000e+00,   0.00000000e+00,   0.00000000e+00,\n",
        "         0.00000000e+00,   0.00000000e+00,   0.00000000e+00,\n",
        "         0.00000000e+00,   0.00000000e+00,   0.00000000e+00,\n",
        "         0.00000000e+00,   0.00000000e+00,   1.00000000e+00,\n",
        "         0.00000000e+00,   1.00000000e+00,   0.00000000e+00,\n",
        "         0.00000000e+00,   0.00000000e+00,   0.00000000e+00,\n",
        "         0.00000000e+00,   0.00000000e+00,   0.00000000e+00,\n",
        "         1.00000000e+00,   0.00000000e+00,   0.00000000e+00,\n",
        "         0.00000000e+00,   0.00000000e+00,   0.00000000e+00,\n",
        "         0.00000000e+00,   0.00000000e+00,   0.00000000e+00,\n",
        "         0.00000000e+00,   0.00000000e+00,   0.00000000e+00,\n",
        "         0.00000000e+00,   0.00000000e+00,   0.00000000e+00,\n",
        "         0.00000000e+00,   0.00000000e+00,   0.00000000e+00,\n",
        "         0.00000000e+00,   0.00000000e+00,   0.00000000e+00,\n",
        "         0.00000000e+00,   0.00000000e+00,   0.00000000e+00,\n",
        "         0.00000000e+00,   0.00000000e+00,   0.00000000e+00,\n",
        "         0.00000000e+00,   0.00000000e+00,   0.00000000e+00,\n",
        "         0.00000000e+00,   0.00000000e+00,   0.00000000e+00,\n",
        "         0.00000000e+00,   0.00000000e+00,   0.00000000e+00,\n",
        "         0.00000000e+00,   0.00000000e+00,   0.00000000e+00,\n",
        "         0.00000000e+00,   0.00000000e+00,   0.00000000e+00,\n",
        "         0.00000000e+00,   0.00000000e+00,   0.00000000e+00,\n",
        "         0.00000000e+00,   0.00000000e+00,   0.00000000e+00,\n",
        "         0.00000000e+00,   0.00000000e+00,   0.00000000e+00,\n",
        "         1.00000000e+00,   0.00000000e+00,   0.00000000e+00,\n",
        "         0.00000000e+00,   1.56626506e-01,   3.01204819e-02,\n",
        "         1.66000000e+02])"
       ]
      }
     ],
     "prompt_number": 104
    },
    {
     "cell_type": "code",
     "collapsed": false,
     "input": [
      "from sklearn.svm import SVC\n",
      "\n",
      "clf = SVC()\n",
      "clf.fit(X, y)\n"
     ],
     "language": "python",
     "metadata": {},
     "outputs": [
      {
       "metadata": {},
       "output_type": "pyout",
       "prompt_number": 112,
       "text": [
        "SVC(C=1.0, cache_size=200, class_weight=None, coef0=0.0, degree=3, gamma=0.0,\n",
        "  kernel='rbf', max_iter=-1, probability=False, random_state=None,\n",
        "  shrinking=True, tol=0.001, verbose=False)"
       ]
      }
     ],
     "prompt_number": 112
    },
    {
     "cell_type": "code",
     "collapsed": false,
     "input": [
      "clf.score(X, y)"
     ],
     "language": "python",
     "metadata": {},
     "outputs": [
      {
       "ename": "NameError",
       "evalue": "name 'clf' is not defined",
       "output_type": "pyerr",
       "traceback": [
        "\u001b[0;31m---------------------------------------------------------------------------\u001b[0m\n\u001b[0;31mNameError\u001b[0m                                 Traceback (most recent call last)",
        "\u001b[0;32m<ipython-input-127-0ea4ba5fe782>\u001b[0m in \u001b[0;36m<module>\u001b[0;34m()\u001b[0m\n\u001b[0;32m----> 1\u001b[0;31m \u001b[0mclf\u001b[0m\u001b[0;34m.\u001b[0m\u001b[0mscore\u001b[0m\u001b[0;34m(\u001b[0m\u001b[0mX\u001b[0m\u001b[0;34m,\u001b[0m \u001b[0my\u001b[0m\u001b[0;34m)\u001b[0m\u001b[0;34m\u001b[0m\u001b[0m\n\u001b[0m",
        "\u001b[0;31mNameError\u001b[0m: name 'clf' is not defined"
       ]
      }
     ],
     "prompt_number": 127
    },
    {
     "cell_type": "code",
     "collapsed": false,
     "input": [
      "clf.coef_"
     ],
     "language": "python",
     "metadata": {},
     "outputs": [
      {
       "ename": "ValueError",
       "evalue": "coef_ is only available when using a linear kernel",
       "output_type": "pyerr",
       "traceback": [
        "\u001b[0;31m---------------------------------------------------------------------------\u001b[0m\n\u001b[0;31mValueError\u001b[0m                                Traceback (most recent call last)",
        "\u001b[0;32m<ipython-input-115-0ca62afe203e>\u001b[0m in \u001b[0;36m<module>\u001b[0;34m()\u001b[0m\n\u001b[0;32m----> 1\u001b[0;31m \u001b[0mclf\u001b[0m\u001b[0;34m.\u001b[0m\u001b[0mcoef_\u001b[0m\u001b[0;34m\u001b[0m\u001b[0m\n\u001b[0m",
        "\u001b[0;32m/usr/lib/python2.7/dist-packages/sklearn/svm/base.pyc\u001b[0m in \u001b[0;36mcoef_\u001b[0;34m(self)\u001b[0m\n\u001b[1;32m    408\u001b[0m     \u001b[0;32mdef\u001b[0m \u001b[0mcoef_\u001b[0m\u001b[0;34m(\u001b[0m\u001b[0mself\u001b[0m\u001b[0;34m)\u001b[0m\u001b[0;34m:\u001b[0m\u001b[0;34m\u001b[0m\u001b[0m\n\u001b[1;32m    409\u001b[0m         \u001b[0;32mif\u001b[0m \u001b[0mself\u001b[0m\u001b[0;34m.\u001b[0m\u001b[0mkernel\u001b[0m \u001b[0;34m!=\u001b[0m \u001b[0;34m'linear'\u001b[0m\u001b[0;34m:\u001b[0m\u001b[0;34m\u001b[0m\u001b[0m\n\u001b[0;32m--> 410\u001b[0;31m             raise ValueError('coef_ is only available when using a '\n\u001b[0m\u001b[1;32m    411\u001b[0m                              'linear kernel')\n\u001b[1;32m    412\u001b[0m \u001b[0;34m\u001b[0m\u001b[0m\n",
        "\u001b[0;31mValueError\u001b[0m: coef_ is only available when using a linear kernel"
       ]
      }
     ],
     "prompt_number": 115
    },
    {
     "cell_type": "code",
     "collapsed": false,
     "input": [
      "#df = random subset of 1000 of the errors\n",
      "import random\n",
      "rowstrain = random.sample(X.index, 5000)\n",
      "Xtrain = newdata.ix[rows]\n",
      "ytrain = \n"
     ],
     "language": "python",
     "metadata": {},
     "outputs": [
      {
       "ename": "SyntaxError",
       "evalue": "invalid syntax (<ipython-input-39-b89db8a62d6c>, line 5)",
       "output_type": "pyerr",
       "traceback": [
        "\u001b[0;36m  File \u001b[0;32m\"<ipython-input-39-b89db8a62d6c>\"\u001b[0;36m, line \u001b[0;32m5\u001b[0m\n\u001b[0;31m    ytrain =\u001b[0m\n\u001b[0m             ^\u001b[0m\n\u001b[0;31mSyntaxError\u001b[0m\u001b[0;31m:\u001b[0m invalid syntax\n"
       ]
      }
     ],
     "prompt_number": 39
    },
    {
     "cell_type": "code",
     "collapsed": false,
     "input": [
      "from sklearn.ensemble import RandomForestClassifier\n",
      "\n",
      "clf2 = RandomForestClassifier()\n",
      "clf2.fit(X, y)"
     ],
     "language": "python",
     "metadata": {},
     "outputs": [
      {
       "metadata": {},
       "output_type": "pyout",
       "prompt_number": 118,
       "text": [
        "RandomForestClassifier(bootstrap=True, compute_importances=None,\n",
        "            criterion='gini', max_depth=None, max_features='auto',\n",
        "            min_density=None, min_samples_leaf=1, min_samples_split=2,\n",
        "            n_estimators=10, n_jobs=1, oob_score=False, random_state=None,\n",
        "            verbose=0)"
       ]
      }
     ],
     "prompt_number": 118
    },
    {
     "cell_type": "code",
     "collapsed": false,
     "input": [
      "\n",
      "clf2.feature_importances_.shape"
     ],
     "language": "python",
     "metadata": {},
     "outputs": [
      {
       "metadata": {},
       "output_type": "pyout",
       "prompt_number": 121,
       "text": [
        "(229,)"
       ]
      }
     ],
     "prompt_number": 121
    },
    {
     "cell_type": "code",
     "collapsed": false,
     "input": [
      "clf2.score(X, y)"
     ],
     "language": "python",
     "metadata": {},
     "outputs": [
      {
       "ename": "NameError",
       "evalue": "name 'clf2' is not defined",
       "output_type": "pyerr",
       "traceback": [
        "\u001b[0;31m---------------------------------------------------------------------------\u001b[0m\n\u001b[0;31mNameError\u001b[0m                                 Traceback (most recent call last)",
        "\u001b[0;32m<ipython-input-34-ab5b6a9d630e>\u001b[0m in \u001b[0;36m<module>\u001b[0;34m()\u001b[0m\n\u001b[0;32m----> 1\u001b[0;31m \u001b[0mclf2\u001b[0m\u001b[0;34m.\u001b[0m\u001b[0mscore\u001b[0m\u001b[0;34m(\u001b[0m\u001b[0mX\u001b[0m\u001b[0;34m,\u001b[0m \u001b[0my\u001b[0m\u001b[0;34m)\u001b[0m\u001b[0;34m\u001b[0m\u001b[0m\n\u001b[0m",
        "\u001b[0;31mNameError\u001b[0m: name 'clf2' is not defined"
       ]
      }
     ],
     "prompt_number": 34
    },
    {
     "cell_type": "code",
     "collapsed": false,
     "input": [
      "X.columns.values.shape"
     ],
     "language": "python",
     "metadata": {},
     "outputs": [
      {
       "metadata": {},
       "output_type": "pyout",
       "prompt_number": 144,
       "text": [
        "(229,)"
       ]
      }
     ],
     "prompt_number": 144
    },
    {
     "cell_type": "code",
     "collapsed": false,
     "input": [
      "clf2.feature_importances_"
     ],
     "language": "python",
     "metadata": {},
     "outputs": [
      {
       "metadata": {},
       "output_type": "pyout",
       "prompt_number": 145,
       "text": [
        "array([  1.65343325e-05,   5.97771979e-04,   6.99394586e-04,\n",
        "         0.00000000e+00,   2.54688433e-03,   1.19784469e-06,\n",
        "         0.00000000e+00,   1.07448021e-04,   2.58728892e-02,\n",
        "         3.56448393e-05,   0.00000000e+00,   3.55200636e-03,\n",
        "         0.00000000e+00,   2.41750441e-06,   3.26270185e-02,\n",
        "         0.00000000e+00,   0.00000000e+00,   4.63686489e-03,\n",
        "         0.00000000e+00,   1.49064782e-06,   0.00000000e+00,\n",
        "         0.00000000e+00,   0.00000000e+00,   3.85296853e-03,\n",
        "         0.00000000e+00,  -1.17209774e-06,   0.00000000e+00,\n",
        "         0.00000000e+00,   1.26406523e-02,   0.00000000e+00,\n",
        "         0.00000000e+00,   0.00000000e+00,   0.00000000e+00,\n",
        "         0.00000000e+00,   3.52318075e-07,   1.62804867e-02,\n",
        "         0.00000000e+00,   0.00000000e+00,   2.18234568e-03,\n",
        "         0.00000000e+00,   1.66446212e-02,   3.51597210e-05,\n",
        "         0.00000000e+00,   0.00000000e+00,   0.00000000e+00,\n",
        "         0.00000000e+00,   1.81455500e-02,   0.00000000e+00,\n",
        "         0.00000000e+00,   6.54772463e-04,   1.45514842e-02,\n",
        "         0.00000000e+00,   0.00000000e+00,   6.60266780e-04,\n",
        "         2.85486442e-03,   0.00000000e+00,   0.00000000e+00,\n",
        "         0.00000000e+00,   0.00000000e+00,   0.00000000e+00,\n",
        "         0.00000000e+00,   3.78425210e-03,   0.00000000e+00,\n",
        "         0.00000000e+00,   0.00000000e+00,   0.00000000e+00,\n",
        "         1.85661788e-04,   0.00000000e+00,   5.93470206e-04,\n",
        "         0.00000000e+00,   0.00000000e+00,   1.61740195e-02,\n",
        "         7.05605771e-04,   0.00000000e+00,   0.00000000e+00,\n",
        "         1.42637540e-02,   0.00000000e+00,   3.73969508e-02,\n",
        "         0.00000000e+00,   0.00000000e+00,   1.05924370e-04,\n",
        "         1.33971636e-03,   0.00000000e+00,   0.00000000e+00,\n",
        "         0.00000000e+00,   0.00000000e+00,   3.82404008e-04,\n",
        "         0.00000000e+00,   1.29523669e-04,   1.32216819e-02,\n",
        "         4.37260027e-03,   8.80163416e-05,   1.66332377e-02,\n",
        "         0.00000000e+00,   0.00000000e+00,   9.73387841e-05,\n",
        "         0.00000000e+00,   9.61398488e-04,   0.00000000e+00,\n",
        "         2.26482238e-04,   4.18087871e-03,   1.12743489e-02,\n",
        "         0.00000000e+00,   1.52341411e-05,   1.21153504e-02,\n",
        "         1.48921792e-02,   1.87720799e-03,   0.00000000e+00,\n",
        "         2.37195767e-03,   0.00000000e+00,   0.00000000e+00,\n",
        "         4.75008663e-05,   0.00000000e+00,   0.00000000e+00,\n",
        "         0.00000000e+00,   1.80012451e-02,   0.00000000e+00,\n",
        "         0.00000000e+00,   0.00000000e+00,   0.00000000e+00,\n",
        "         0.00000000e+00,   0.00000000e+00,   1.26172742e-02,\n",
        "         0.00000000e+00,   0.00000000e+00,   0.00000000e+00,\n",
        "         8.24951493e-03,  -1.32517790e-05,   4.07570855e-04,\n",
        "         8.45176105e-05,   7.19961498e-03,   7.48890784e-05,\n",
        "         0.00000000e+00,   1.77621972e-03,   1.00988758e-04,\n",
        "         1.14257491e-02,   0.00000000e+00,   0.00000000e+00,\n",
        "         1.36953693e-04,   2.07531544e-02,   6.11591602e-04,\n",
        "         2.16290549e-02,   0.00000000e+00,   3.99914734e-03,\n",
        "         0.00000000e+00,   0.00000000e+00,   6.61128652e-04,\n",
        "         3.39862480e-04,   0.00000000e+00,   0.00000000e+00,\n",
        "         0.00000000e+00,   0.00000000e+00,   0.00000000e+00,\n",
        "         0.00000000e+00,   0.00000000e+00,   0.00000000e+00,\n",
        "         0.00000000e+00,   7.63202070e-07,   1.36744247e-02,\n",
        "         5.29072520e-03,   4.62033369e-03,   2.26212086e-02,\n",
        "         7.08735631e-03,   1.19711933e-02,   0.00000000e+00,\n",
        "         0.00000000e+00,   4.90110662e-03,   4.66168799e-03,\n",
        "         0.00000000e+00,   4.23236408e-03,   0.00000000e+00,\n",
        "         9.81379649e-03,   4.72782036e-03,   3.13958439e-03,\n",
        "         1.85529149e-03,   2.60745313e-04,   2.22646396e-03,\n",
        "         4.52925245e-04,   2.49776470e-03,   1.49980903e-03,\n",
        "         1.03984971e-02,   1.16367040e-03,   5.23462550e-05,\n",
        "         2.02550554e-03,   2.86921931e-05,   1.63027060e-03,\n",
        "         1.29827428e-04,   2.55319082e-04,   6.09893004e-05,\n",
        "         3.60833719e-04,   2.14227471e-03,   1.57466321e-03,\n",
        "         2.02744089e-03,   6.66589496e-04,   7.41270688e-05,\n",
        "         1.49915212e-04,   1.00148469e-03,   1.86342355e-04,\n",
        "         1.55418460e-04,   0.00000000e+00,   3.03386399e-04,\n",
        "         4.96731126e-04,   1.80198795e-03,   1.22469488e-04,\n",
        "         3.12163735e-05,   6.65661652e-05,   2.18028295e-04,\n",
        "        -9.26380738e-06,  -3.95972547e-06,   2.37443380e-03,\n",
        "         3.84778759e-06,   1.45169152e-04,   4.72768881e-04,\n",
        "         0.00000000e+00,   0.00000000e+00,  -6.99852864e-06,\n",
        "         0.00000000e+00,   0.00000000e+00,   0.00000000e+00,\n",
        "         8.69318474e-06,   0.00000000e+00,   3.07895467e-03,\n",
        "         3.97239218e-02,   1.02059771e-01,   6.63930654e-03,\n",
        "         1.04495411e-04,   1.07415443e-01,   8.49000901e-02,\n",
        "         9.57415316e-02])"
       ]
      }
     ],
     "prompt_number": 145
    },
    {
     "cell_type": "code",
     "collapsed": false,
     "input": [
      "Importance = pd.Series(clf2.feature_importances_, index = X.columns.values)\n",
      "Importance=Importance[Importance>0]"
     ],
     "language": "python",
     "metadata": {},
     "outputs": [],
     "prompt_number": 148
    },
    {
     "cell_type": "code",
     "collapsed": false,
     "input": [
      "Importance.sort(ascending = False)"
     ],
     "language": "python",
     "metadata": {},
     "outputs": [],
     "prompt_number": 154
    },
    {
     "cell_type": "code",
     "collapsed": false,
     "input": [
      "\n",
      "font = {'family' : 'normal',\n",
      "        'size'   : 24}\n",
      "\n",
      "matplotlib.rc('font', **font)\n",
      "\n",
      "Importance[:20].plot(kind='bar', figsize = (8, 5))"
     ],
     "language": "python",
     "metadata": {},
     "outputs": [
      {
       "metadata": {},
       "output_type": "pyout",
       "prompt_number": 159,
       "text": [
        "<matplotlib.axes.AxesSubplot at 0x7f6390f9cc50>"
       ]
      },
      {
       "output_type": "stream",
       "stream": "stderr",
       "text": [
        "/usr/lib/pymodules/python2.7/matplotlib/font_manager.py:1246: UserWarning: findfont: Could not match :family=Bitstream Vera Sans:style=normal:variant=normal:weight=normal:stretch=normal:size=24.0. Returning /usr/share/matplotlib/mpl-data/fonts/ttf/cmb10.ttf\n",
        "  UserWarning)\n"
       ]
      },
      {
       "metadata": {},
       "output_type": "display_data",
       "png": "[encoded data removed]",
       "text": [
        "<matplotlib.figure.Figure at 0x7f6390f75510>"
       ]
      }
     ],
     "prompt_number": 159
    },
    {
     "cell_type": "code",
     "collapsed": false,
     "input": [
      "allData['"
     ],
     "language": "python",
     "metadata": {},
     "outputs": [
      {
       "metadata": {},
       "output_type": "pyout",
       "prompt_number": 38,
       "text": [
        "(22040, 230)"
       ]
      }
     ],
     "prompt_number": 38
    },
    {
     "cell_type": "code",
     "collapsed": false,
     "input": [
      "pd.DataFrame("
     ],
     "language": "python",
     "metadata": {},
     "outputs": []
    }
   ],
   "metadata": {}
  }
 ]
}